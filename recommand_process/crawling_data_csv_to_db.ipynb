{
 "cells": [
  {
   "cell_type": "code",
   "execution_count": 19,
   "id": "ea48d3da",
   "metadata": {},
   "outputs": [],
   "source": [
    "import csv\n",
    "import pymysql\n",
    "from datetime import date"
   ]
  },
  {
   "cell_type": "markdown",
   "id": "933ee27e",
   "metadata": {},
   "source": [
    "# CSV 파일 Mysql 에 저장"
   ]
  },
  {
   "cell_type": "code",
   "execution_count": 20,
   "id": "d6f2e29c",
   "metadata": {},
   "outputs": [
    {
     "ename": "TypeError",
     "evalue": "not all arguments converted during string formatting",
     "output_type": "error",
     "traceback": [
      "\u001b[0;31m---------------------------------------------------------------------------\u001b[0m",
      "\u001b[0;31mTypeError\u001b[0m                                 Traceback (most recent call last)",
      "Cell \u001b[0;32mIn[20], line 59\u001b[0m\n\u001b[1;32m     53\u001b[0m         insert_query \u001b[38;5;241m=\u001b[39m \u001b[38;5;124m'''\u001b[39m\n\u001b[1;32m     54\u001b[0m \u001b[38;5;124m            INSERT INTO combined_crawling_data (id, url, job_list, title, company, location, tags, qualifications, preferred, benefits, skills, workplace, crawled_date)\u001b[39m\n\u001b[1;32m     55\u001b[0m \u001b[38;5;124m            VALUES (\u001b[39m\u001b[38;5;132;01m%s\u001b[39;00m\u001b[38;5;124m, \u001b[39m\u001b[38;5;132;01m%s\u001b[39;00m\u001b[38;5;124m, \u001b[39m\u001b[38;5;132;01m%s\u001b[39;00m\u001b[38;5;124m, \u001b[39m\u001b[38;5;132;01m%s\u001b[39;00m\u001b[38;5;124m, \u001b[39m\u001b[38;5;132;01m%s\u001b[39;00m\u001b[38;5;124m, \u001b[39m\u001b[38;5;132;01m%s\u001b[39;00m\u001b[38;5;124m, \u001b[39m\u001b[38;5;132;01m%s\u001b[39;00m\u001b[38;5;124m, \u001b[39m\u001b[38;5;132;01m%s\u001b[39;00m\u001b[38;5;124m, \u001b[39m\u001b[38;5;132;01m%s\u001b[39;00m\u001b[38;5;124m, \u001b[39m\u001b[38;5;132;01m%s\u001b[39;00m\u001b[38;5;124m, \u001b[39m\u001b[38;5;132;01m%s\u001b[39;00m\u001b[38;5;124m, \u001b[39m\u001b[38;5;132;01m%s\u001b[39;00m\u001b[38;5;124m)\u001b[39m\n\u001b[1;32m     56\u001b[0m \u001b[38;5;124m        \u001b[39m\u001b[38;5;124m'''\u001b[39m\n\u001b[1;32m     57\u001b[0m         insert_values \u001b[38;5;241m=\u001b[39m (id_value, url_value, job_list_value, title_value, company_value, location_value, tags_value, qualifications_value, preferred_value, benefits_value, skills_value, workplace_value, crawled_date_value)\n\u001b[0;32m---> 59\u001b[0m         \u001b[43mcursor\u001b[49m\u001b[38;5;241;43m.\u001b[39;49m\u001b[43mexecute\u001b[49m\u001b[43m(\u001b[49m\u001b[43minsert_query\u001b[49m\u001b[43m,\u001b[49m\u001b[43m \u001b[49m\u001b[43minsert_values\u001b[49m\u001b[43m)\u001b[49m\n\u001b[1;32m     61\u001b[0m \u001b[38;5;66;03m# 변경 내용을 커밋하여 데이터베이스에 반영\u001b[39;00m\n\u001b[1;32m     62\u001b[0m conn\u001b[38;5;241m.\u001b[39mcommit()\n",
      "File \u001b[0;32m/usr/local/lib/python3.9/site-packages/pymysql/cursors.py:151\u001b[0m, in \u001b[0;36mCursor.execute\u001b[0;34m(self, query, args)\u001b[0m\n\u001b[1;32m    148\u001b[0m \u001b[38;5;28;01mwhile\u001b[39;00m \u001b[38;5;28mself\u001b[39m\u001b[38;5;241m.\u001b[39mnextset():\n\u001b[1;32m    149\u001b[0m     \u001b[38;5;28;01mpass\u001b[39;00m\n\u001b[0;32m--> 151\u001b[0m query \u001b[38;5;241m=\u001b[39m \u001b[38;5;28;43mself\u001b[39;49m\u001b[38;5;241;43m.\u001b[39;49m\u001b[43mmogrify\u001b[49m\u001b[43m(\u001b[49m\u001b[43mquery\u001b[49m\u001b[43m,\u001b[49m\u001b[43m \u001b[49m\u001b[43margs\u001b[49m\u001b[43m)\u001b[49m\n\u001b[1;32m    153\u001b[0m result \u001b[38;5;241m=\u001b[39m \u001b[38;5;28mself\u001b[39m\u001b[38;5;241m.\u001b[39m_query(query)\n\u001b[1;32m    154\u001b[0m \u001b[38;5;28mself\u001b[39m\u001b[38;5;241m.\u001b[39m_executed \u001b[38;5;241m=\u001b[39m query\n",
      "File \u001b[0;32m/usr/local/lib/python3.9/site-packages/pymysql/cursors.py:129\u001b[0m, in \u001b[0;36mCursor.mogrify\u001b[0;34m(self, query, args)\u001b[0m\n\u001b[1;32m    126\u001b[0m conn \u001b[38;5;241m=\u001b[39m \u001b[38;5;28mself\u001b[39m\u001b[38;5;241m.\u001b[39m_get_db()\n\u001b[1;32m    128\u001b[0m \u001b[38;5;28;01mif\u001b[39;00m args \u001b[38;5;129;01mis\u001b[39;00m \u001b[38;5;129;01mnot\u001b[39;00m \u001b[38;5;28;01mNone\u001b[39;00m:\n\u001b[0;32m--> 129\u001b[0m     query \u001b[38;5;241m=\u001b[39m \u001b[43mquery\u001b[49m\u001b[43m \u001b[49m\u001b[38;5;241;43m%\u001b[39;49m\u001b[43m \u001b[49m\u001b[38;5;28;43mself\u001b[39;49m\u001b[38;5;241;43m.\u001b[39;49m\u001b[43m_escape_args\u001b[49m\u001b[43m(\u001b[49m\u001b[43margs\u001b[49m\u001b[43m,\u001b[49m\u001b[43m \u001b[49m\u001b[43mconn\u001b[49m\u001b[43m)\u001b[49m\n\u001b[1;32m    131\u001b[0m \u001b[38;5;28;01mreturn\u001b[39;00m query\n",
      "\u001b[0;31mTypeError\u001b[0m: not all arguments converted during string formatting"
     ]
    }
   ],
   "source": [
    "conn = pymysql.connect(\n",
    "    host = 'localhost',\n",
    "    port = 33060,\n",
    "    user = 'data',\n",
    "    password = 'data',\n",
    "    database = 'recommend_system',\n",
    "    charset='utf8mb4'\n",
    ")\n",
    "\n",
    "cursor = conn.cursor()\n",
    "\n",
    "# 테이블 생성\n",
    "create_table_query = '''\n",
    "    CREATE TABLE IF NOT EXISTS combined_crawling_data (\n",
    "        id INT PRIMARY KEY,\n",
    "        url VARCHAR(255),\n",
    "        job_list VARCHAR(255),\n",
    "        title VARCHAR(255),\n",
    "        company VARCHAR(255),\n",
    "        location VARCHAR(255),\n",
    "        tags VARCHAR(255),\n",
    "        qualifications TEXT,\n",
    "        preferred TEXT,\n",
    "        benefits TEXT,\n",
    "        skills TEXT,\n",
    "        workplace TEXT,\n",
    "        crawled_date DATE\n",
    "    )\n",
    "'''\n",
    "\n",
    "cursor.execute(create_table_query)\n",
    "\n",
    "# CSV 파일 읽기 및 데이터베이스에 삽입\n",
    "with open(\"data/combined_crawling_data.csv\", encoding=\"utf-8\") as f:\n",
    "    reader = csv.reader(f)\n",
    "    next(reader)  # 첫 번째 행은 헤더이므로 건너뜁니다.\n",
    "\n",
    "    for row in reader:\n",
    "        id_value = int(row[0])\n",
    "        url_value = row[1]\n",
    "        job_list_value = row[2]\n",
    "        title_value = row[3]\n",
    "        company_value = row[4]\n",
    "        location_value = row[5]#\n",
    "        tags_value = row[6]\n",
    "        qualifications_value = row[7]\n",
    "        preferred_value = row[8]\n",
    "        benefits_value = row[9]\n",
    "        skills_value = row[10]\n",
    "        workplace_value = row[11]\n",
    "        crawled_date_value = date.today()  # 현재 날짜\n",
    "\n",
    "        insert_query = '''\n",
    "            INSERT INTO combined_crawling_data (id, url, job_list, title, company, location, tags, qualifications, preferred, benefits, skills, workplace, crawled_date)\n",
    "            VALUES (%s, %s, %s, %s, %s, %s, %s, %s, %s, %s, %s, %s, %s)\n",
    "        '''\n",
    "        insert_values = (id_value, url_value, job_list_value, title_value, company_value, location_value, tags_value, qualifications_value, preferred_value, benefits_value, skills_value, workplace_value, crawled_date_value)\n",
    "\n",
    "        cursor.execute(insert_query, insert_values)\n",
    "\n",
    "# 변경 내용을 커밋하여 데이터베이스에 반영\n",
    "conn.commit()\n",
    "\n",
    "# 연결 및 커서 종료\n",
    "cursor.close()\n",
    "conn.close()"
   ]
  },
  {
   "cell_type": "code",
   "execution_count": null,
   "id": "86237611",
   "metadata": {},
   "outputs": [],
   "source": []
  }
 ],
 "metadata": {
  "kernelspec": {
   "display_name": "Python 3 (ipykernel)",
   "language": "python",
   "name": "python3"
  },
  "language_info": {
   "codemirror_mode": {
    "name": "ipython",
    "version": 3
   },
   "file_extension": ".py",
   "mimetype": "text/x-python",
   "name": "python",
   "nbconvert_exporter": "python",
   "pygments_lexer": "ipython3",
   "version": "3.9.16"
  },
  "toc": {
   "base_numbering": 1,
   "nav_menu": {},
   "number_sections": true,
   "sideBar": true,
   "skip_h1_title": false,
   "title_cell": "Table of Contents",
   "title_sidebar": "Contents",
   "toc_cell": false,
   "toc_position": {},
   "toc_section_display": true,
   "toc_window_display": false
  }
 },
 "nbformat": 4,
 "nbformat_minor": 5
}
