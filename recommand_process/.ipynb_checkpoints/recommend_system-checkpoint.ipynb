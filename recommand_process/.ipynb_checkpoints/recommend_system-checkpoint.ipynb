{
 "cells": [
  {
   "cell_type": "markdown",
   "id": "5ec8e92a",
   "metadata": {},
   "source": [
    "# import library"
   ]
  },
  {
   "cell_type": "code",
   "execution_count": 1,
   "id": "1f623651",
   "metadata": {},
   "outputs": [],
   "source": [
    "import re\n",
    "import csv\n",
    "from tqdm import tqdm"
   ]
  },
  {
   "cell_type": "markdown",
   "id": "798fc730",
   "metadata": {},
   "source": [
    "# skills_set preprocessing"
   ]
  },
  {
   "cell_type": "code",
   "execution_count": 2,
   "id": "f200fab5",
   "metadata": {},
   "outputs": [],
   "source": [
    "def get_skills_list():\n",
    "    with open(\"data/combined_crawling_data.csv\", \"r\", encoding=\"utf-8\") as f:\n",
    "        reader = csv.reader(f)\n",
    "        \n",
    "        # 태그 하나씩 쪼개서 넣을 리스트 (set으로 중복 제거 전)\n",
    "        skills_list = []\n",
    "\n",
    "        # csv 파일 리더로, 한 row씩 읽기\n",
    "        for row in reader:\n",
    "            # row list의 10번째 element인 tags string을 ''안 단어들로 나눠서 list만들기\n",
    "            skills = re.findall(r\"'(.*?)'\", row[10])\n",
    "            skills_upper = [word.upper() for word in skills]\n",
    "            \n",
    "            # 각 줄의 태그를 skill_list 에 넣는다.\n",
    "            skills_list += skills_upper\n",
    "\n",
    "            # count += 1\n",
    "        \n",
    "        skills_set = set(skills_list)\n",
    "        \n",
    "        return skills_set"
   ]
  },
  {
   "cell_type": "markdown",
   "id": "95e04e56",
   "metadata": {},
   "source": [
    "# 스킬 셋 그룹화를 위한 전처리"
   ]
  },
  {
   "cell_type": "code",
   "execution_count": 51,
   "id": "6282f920",
   "metadata": {},
   "outputs": [],
   "source": [
    "skill_mapping = {\n",
    "    'AWS': ['AWS', 'AMAZON WEB SERVICE'],\n",
    "    'REACT': ['REACT', 'REACT.JS', 'REACT NATIVE'],\n",
    "    'GIT': ['GIT', 'GITHUB', 'GITLAB'],\n",
    "    'VUE': ['VUE', 'VUEJS', 'VUE.JS'],\n",
    "    'EMBEDDED': ['임베디드 시스템', '임베디드 소프트웨어', 'EMBEDDED C', 'EMBEDDED LINUX', 'WINDOWS EMBEDDED'],\n",
    "    'RESTFUL': ['RESTFUL', 'REST', 'RESTFUL API', 'RESTFUL WEBSERVICES', 'RESTFUL ARCHITECTURE'],\n",
    "    'RTL': ['RTL', 'RTL 설계', 'RTL 코딩', 'RTL 검증'],\n",
    "    'SAP': ['SAP BW', 'SAP 포털', 'SAP MM', 'SAP FICO', 'SAP ERP', 'SAP BI', 'SAP 구현', 'SAP HR', 'SAP', 'SAP FI', 'SAP SD', 'ERP 구현', 'ERP 소프트웨어'],\n",
    "    'INFRA': ['인프라'],\n",
    "    '보안': ['보안', '네트워크 보안', '정보 보안', '보안 정책', '보안 관리', '보안 감사', '보안 교육', '보안 금융', '보안 운영', '클라우드 보안', '취약점 스캐닝'],\n",
    "    'ORACLE': ['ORACLE', 'ORACLE SQL', 'ORACLE DATABASE', 'ORACLE RAC'],\n",
    "    'GCP': ['GCP', 'GOOGLE CLOUD PLATFORM'],\n",
    "    '데이터베이스': ['데이터베이스', 'CRM 데이터베이스', '데이터베이스 관리'],\n",
    "    'C/C++': ['C / C++', 'C', 'C++'],\n",
    "    'GO': ['GO', 'GOLANG'],\n",
    "    'JQEURY': ['JQUERY', 'JQUERY UI'],\n",
    "    'MSSQL': ['MSSQL', 'SQL 서버', 'MICROSOFT SERVER'],\n",
    "    'ML': ['ML', '기계 학습 (MACHINE LEARNING)'],\n",
    "    'SPARK': ['SPARK', 'APACHE SPARK'],\n",
    "    '3D': ['3D', '3D 모델링', '3D 그래픽'],\n",
    "    'JSP': ['JSP', 'JSP 개발'],\n",
    "    'SHELL': ['SHELL', 'SHELL SCRIPTING'],\n",
    "    'AGILE': ['AGILE', '애자일 방법론', '애자일 프로젝트 관리'],\n",
    "    'UX': ['UX', 'UX 기획', 'UX 디자인'],\n",
    "    'WPF': ['WPF', 'WPF 개발'],\n",
    "    'APACHE': ['APACHE', 'APACHE2'],\n",
    "    '.NET': ['.NET', '.NET CORE', 'VB .NET'],\n",
    "    '소켓': ['소켓', 'WEB SOCKET'],\n",
    "    'FPGA': ['FPGA', 'FPGA 프로토타이핑'],\n",
    "    'KOTLIN': ['KOTLIN', 'COROUTINE'],\n",
    "    '네트워크': ['네트워크 관리', '네트워크 보안', '네트워크 설계', '네트워크 엔지니어링', '네트워크 운영', '네트워크 인프라', '네트워크 통신', '네트워크 프로그래밍'],\n",
    "    'LINUX': ['LINUX', '리눅스', '리눅스 커널', '리눅스 시스템 관리', '리눅스 서버'],\n",
    "    '로봇': ['로봇', '로봇 프로그래밍'],\n",
    "    '모바일 게임': ['모바일 게임', '모바일 게임 개발'],\n",
    "    '컴퓨터 비전': ['컴퓨터 비전', '머신 비전'],\n",
    "    '클라우드 컴퓨팅': ['클라우드 컴퓨팅', '클라우드 응용 프로그램', '클라우드 스토리지', 'HEROKU'],\n",
    "    'ASP': ['ASP', 'ASP .NET'],\n",
    "    'CAD': ['CAD', 'AUTOCAD'],\n",
    "    'CRM': ['CRM', 'CRM 데이터베이스', 'CRM 소프트웨어', 'CRM 통합'],\n",
    "    'CSS': ['CSS', 'CSS3', 'CSS 자바스크립트'],\n",
    "    'GIS': ['GIS', 'GIS 응용 프로그램', 'GIS 시스템'],\n",
    "    'IOS': ['IOS', 'IOS 개발', 'IOS 디자인', 'MAC', 'APPLE SOFTWARE'],\n",
    "    'VM웨어': ['VM웨어', 'VMWARE INFRASTRUCTURE'],\n",
    "    'WINDOWS': ['WINDOWS 8', 'WINDOWS 서버', 'WINDOWS 서비스', 'WINDOWS 원격 데스크톱', 'WINDOWS EMBEDDED'],\n",
    "    'WORDPRESS': ['WORDPRESS', 'WORDPRESS DESIGN'],\n",
    "    'ANDROID': ['ANDROID', 'ANDROID STUDIO', '안드로이드 개발', '안드로이드 SDK'],\n",
    "    'ANGULAR': ['ANGULAR', 'ANGULARJS'],\n",
    "    'JAVASCRIPT': ['JAVASCRIPT', 'CSS 자바 스크립트'],\n",
    "    'JSON': ['JSON', 'JSONAPI'],\n",
    "    'API': ['API', 'JSONAPI', 'API 개발'],\n",
    "    '하드웨어': ['하드웨어', '하드웨어 설계', '하드웨어 테스트'],\n",
    "    '시스템': ['시스템 관리', '시스템 구축', '시스템 구현', '시스템 통합'], \n",
    "    'UBUNTU': ['UBUNTU', 'DEBIAN'],\n",
    "    'STORAGE': ['STORAGE', '스토리지 솔루션', '스토리지 영역 네트워크', 'EMC STORAGE'],\n",
    "    'DATA ANALYSIS': ['DATA ANALYSIS', '데이터 분석'],\n",
    "    \n",
    "    \n",
    "}\n",
    "\n",
    "drop_list = [\n",
    "    '개발', '설계', '최적화', '컴퓨터 공학', '모델링', '수학', '검증', '영상', '제품 개발', '프로젝트 관리', '차량', \n",
    "    '자동차', '웹사이트', '카메라', '반도체', '고객 관계', '고객 중심', '고객 지원', '공공 부문', '공차 분석', \n",
    "    '교육 관리', '교육 기술', '구매 관리', '기술 개발', '기술 관리', '기술 교육', '기술 문서', '강의', '네비게이션 시스템', \n",
    "    '데이터 입력', '데이터 통합', '도메인 관리', '라이브러리 관리', '레이더', '리팩토링', '마이크로프로세서', '모델링 및 시뮬레이션',\n",
    "    '모뎀', '모터 제어', '모바일 기술', '모바일 장치', '백신', '병렬 프로그래밍', '복제', '분석 개발', '분석 능력', '분석 문제 해결', \n",
    "    '브랜딩', '비즈니스 분석', '상품 기획', '샘플 관리', '샘플 준비', '생산 계획', '분석 서비스', '분석능력', '성능 측정', '위성 통신',\n",
    "    '영어 실력', '요구 사항 분석', '일본어', '자동차 전자', '자산 관리', '자연 언어 처리', '재고 관리', '전력전자학', '전원 엔지니어링', \n",
    "    '전자 공학', '전자정부프레임워크', '정보관리', '제안서 작성', '제어 시스템 설계', '카산드라', '컴파일러', '클라이언트 개발', \n",
    "    '테스트 실행', '통계 모델링', '품질 관리', '품질 보증', '프레젠테이션', '프로그램 관리', '프로세스 개선', '프로젝트 납품', \n",
    "    '프로젝트 실행', '프로토 타이핑', '프로토콜 개발', '학술 연구', '학술 출판', '회로', '회로 분석', '회로 설계', \n",
    "    'HEALTH INFORMATION TECHNOLOGY', 'HP', 'PROCESSING', 'POS', '서비스 관리', '서비스 디자인', '서비스 프로세스', \n",
    "    'IT 관리', 'IT 운영', 'COMMUNICATION', '프론트엔드 개발자', '연구 및 개발', '아날로그 회로 설계', '소프트웨어 검증',\n",
    "    '운영 관리', '운영체제', '유지보수', '의료 기기', '의료 산업', '의료 영상', '의료 장비', '인버터', 'CLUSTERING',\n",
    "    'DEBUGGING', 'EMC 규정 준수', '데이터 구조', '관리', '알고리즘 개발', '알고리즘 설계', 'POP 디스플레이', \n",
    "]"
   ]
  },
  {
   "cell_type": "code",
   "execution_count": 52,
   "id": "5061be1b",
   "metadata": {},
   "outputs": [
    {
     "data": {
      "text/plain": [
       "(55, 119)"
      ]
     },
     "execution_count": 52,
     "metadata": {},
     "output_type": "execute_result"
    }
   ],
   "source": [
    "len(skill_mapping), len(drop_list)"
   ]
  },
  {
   "cell_type": "markdown",
   "id": "d365c487",
   "metadata": {},
   "source": [
    "# skillset_dict 만들기"
   ]
  },
  {
   "cell_type": "code",
   "execution_count": 53,
   "id": "f1e3d87a",
   "metadata": {
    "scrolled": false
   },
   "outputs": [],
   "source": [
    "skillset_dict = dict()\n",
    "skills_set = get_skills_list()\n",
    "\n",
    "for skill in skills_set:\n",
    "    for key, mappings in skill_mapping.items():\n",
    "        if skill in mappings:\n",
    "            if key in skillset_dict:\n",
    "                skillset_dict[key].append(skill)\n",
    "            else:\n",
    "                skillset_dict[key] = [skill]\n",
    "            break\n",
    "    else:\n",
    "        if skill not in drop_list:\n",
    "            skillset_dict[skill] = [skill]"
   ]
  },
  {
   "cell_type": "code",
   "execution_count": 54,
   "id": "846c70a4",
   "metadata": {
    "scrolled": true
   },
   "outputs": [
    {
     "data": {
      "text/plain": [
       "428"
      ]
     },
     "execution_count": 54,
     "metadata": {},
     "output_type": "execute_result"
    }
   ],
   "source": [
    "len(skillset_dict)"
   ]
  },
  {
   "cell_type": "markdown",
   "id": "65bc4b7b",
   "metadata": {},
   "source": [
    "# quals_prefs_skills_combined 가져오기"
   ]
  },
  {
   "cell_type": "code",
   "execution_count": 55,
   "id": "9ff8b149",
   "metadata": {
    "scrolled": true
   },
   "outputs": [],
   "source": [
    "with open(\"data/qual_pref_skill_scaling.csv\", \"w\", encoding=\"utf-8\") as f:\n",
    "    writer = csv.writer(f)\n",
    "    writer.writerow([\"id\"]+list(skillset_dict.keys()))\n",
    "\n",
    "    with open(\"data/qual_pref_skill_combined.csv\", \"r\", encoding=\"utf-8\") as combined_data:\n",
    "        reader = csv.reader(combined_data)\n",
    "        data = list(reader)\n",
    "        \n",
    "        for row in data[1:]:\n",
    "            skill_cols = skillset_dict.copy()\n",
    "\n",
    "            quals = re.findall(r\"'(.*?)'\", row[1])\n",
    "            prefs = re.findall(r\"'(.*?)'\", row[2])\n",
    "            skills = re.findall(r\"'(.*?)'\", row[3])\n",
    "\n",
    "            for key, value in skillset_dict.items():\n",
    "                skill_cols[key] = 0\n",
    "                \n",
    "                if len(quals) > 0:\n",
    "                    for q in quals:\n",
    "                        if q in value:\n",
    "                            skill_cols[key] += 3\n",
    "                            break\n",
    "                \n",
    "                if len(prefs) > 0:\n",
    "                    for p in prefs:\n",
    "                        if p in value:\n",
    "                            skill_cols[key] += 1\n",
    "                            break\n",
    "                            \n",
    "                if len(skills) > 0:\n",
    "                    for s in skills:\n",
    "                        if s in value:\n",
    "                            skill_cols[key] += 1\n",
    "                            break\n",
    "                            \n",
    "            writer.writerow([row[0]] + list(skill_cols.values()))"
   ]
  },
  {
   "cell_type": "code",
   "execution_count": null,
   "id": "e0d74d07",
   "metadata": {},
   "outputs": [],
   "source": []
  },
  {
   "cell_type": "code",
   "execution_count": 56,
   "id": "71a14777",
   "metadata": {
    "scrolled": false
   },
   "outputs": [
    {
     "name": "stdout",
     "output_type": "stream",
     "text": [
      "['id', 'CHILDREN', 'BASH', '시스템', 'SAP', 'ORCAD', 'RTL', 'OFFICE 365', 'SCRUM', '서버', 'GIT', 'POWERBUILDER', 'SPRING BOOT', 'REVIT', 'ALTIUM', 'AKKA', 'KOTLIN', 'PADS LAYOUT', 'WINDOWS', 'KYC', 'MMO', '모바일 게임', 'ASP', 'MONGODB', 'UNITY3D', 'IBATIS', 'RABBITMQ', 'SNMP', 'MATLAB', 'TRELLO', '검색 엔진', '네트워크', 'NGINX', 'XCODE', 'HILT', '하드웨어', 'GOOGLE WEBMASTER TOOLS', '.NET', 'EMR', 'RPG', 'EXCEL', 'CCIE', 'OPENCL', 'UBUNTU', 'POSTGRESQL', '보안', 'POWERSHELL', 'SCIKIT-LEARN', 'PYTORCH', 'DELPHI', 'VHDL', 'GUI', 'VM웨어', 'HMI', 'LIDAR', 'FTP', 'IVR', 'GCC', 'NEXACRO', 'SPARK', '데이터 시각화', 'REDMINE', 'OPENGL', 'SIP', 'PHPUNIT', 'QC', 'CTI', 'PCB 레이아웃 설계', 'WEBSPHERE MQ', 'ITIL', 'FLOW', 'PRODUCT MANAGEMENT ', 'SASS', 'SOC', 'LINUX', 'OLAP', 'VBA', 'SPI', 'JUNIT', 'DIAGNOSTIC', 'APACHE 2', 'CRM', 'EMBEDDED', 'NEO4J', 'MIMO', 'WINFORM', 'C/C++', 'SHADER', '3G', 'OAUTH', 'CONFLUENCE', '펌웨어', '방화벽', 'NAS', 'SHELL', 'SSH', 'RUBY ON RAILS', 'QT', 'IOS', 'BITBUCKET', 'SYBASE', 'OOP', 'SPINE', 'ASIC', 'TENSORFLOW', 'SSIS', 'FPGA 프로토 타이핑', 'GIS', 'ZEMAX', 'ES6', 'STRUTS', 'SMS', 'CAD', 'REACT', 'MOBILE APP DESIGN', 'SAAS', 'ETHEREUM', '딥 러닝', 'ADC', '데이터 수집', 'IIS', 'EXPRESSJS', 'SERVLETS', 'ADOBE XD', 'GOOGLE APPS', 'UX', 'DB2', 'JSP', 'EAI', 'NEXT.JS', 'ISO', '통신', '소프트웨어 개발', 'RX', 'LESS', '서버 관리', '그래픽 디자인', 'NUMPY', 'OBJECTIVEC', 'PLC', 'CAM', 'OFDM', 'HTML', 'HTTP', 'MS 오피스', 'ZEPLIN', 'TDD', 'JAVASCRIPT', 'XML', 'ADOBE PHOTOSHOP', 'PMO', 'OPENMP', 'SVG', 'ISR', 'BOOTSTRAP', 'GPS', 'USER EXPERIENCE', 'ORACLE', 'DATA ANALYSIS', 'APPLICANT TRACKING SYSTEM(ATS)', 'VR', 'FIREBASE', 'APACHE', 'VISUAL STUDIO CODE', 'AGILE', '앱 서버', 'DBT', 'IPS', 'SOLR', '소켓', 'ECLIPSE', 'PACS', 'SD', 'JQEURY', '암호화', 'SEO', 'SOLARIS ', 'ASTERISK', 'PADS', 'CISCO', '인공 지능', 'VISUAL BASIC', 'PCB 디자인', 'ROS', 'TABLEAU', 'RTOS', 'R', 'UNREAL ENGINE', 'REDUX', 'C#', '인터페이스', 'MFC', 'NOSQL', 'TYPEFORM', 'JUNIPER', 'INTELLIJ IDEA', 'VUE', 'MSSQL', '신호 처리', 'FPGA', 'MAVEN', 'SONET', 'VISUAL STUDIO', 'NLP', 'UDP', 'RESTFUL', 'ANDROID', '클라우드 컴퓨팅', 'CISSP', 'AUTOSAR', 'POP 디스플레이', 'DOM', '금융', 'SSRS', 'RF', 'I2C', 'RTP', 'AUDIT COMMAND LANGUAGE (ACL)', 'SPRING FRAMEWORK', 'PERL', 'PYTHON', 'WORDPRESS', 'SPSS', '컴퓨터 비전', 'STORAGE', 'JSTL', 'VOIP', '빅 데이터', '데이터베이스 설계', 'SVN', 'HADOOP', 'WPF', 'DATASTAGE', '구글 API', 'OTN', 'GRUNTJS', 'QA 엔지니어링', 'API', 'CUDA', 'CITRIX', 'GO', '네트워크 개발', 'TOMCAT', 'CAKEPHP', '웹 디자인', 'HTML5', 'PKI', 'MVVM', 'AAC', 'GIMP', 'MICROCHIP PIC', 'BLOCKCHAIN', 'TELERIK', 'XEN', 'LIS', '데이터베이스', 'PAAS', 'AR', 'DNS', 'LINQ', '3D', 'WEBRTC', 'ETL 도구', 'JSON', '윈도우 프로그래밍', 'RAID', 'IP', 'ADOBE ILLUSTRATOR', 'CISA', 'STL', 'INFRA', 'COCOA TOUCH', 'IOT', 'ENTITY FRAMEWORK', 'SCALA', 'ANGULAR', 'TESTNG', 'OPENSTACK', 'NOTION', 'OPENCV', 'GOOGLE ANALYTICS', 'REDIS', 'NFC', 'HTA', 'NODEJS', 'VDI', 'SAS', 'AXURE', 'AWS', 'GLSL', '데이터 마트', 'XAML', 'EDA', 'ANSI C', 'MXNET', 'ETL', 'CCNA', 'PMP', 'RUBY', 'DSP', 'ML', 'RFP', 'DEVOPS', 'HYPERLEDGER', 'KERNEL PROGRAMMING', 'SIMULINK', 'AZURE', 'FLASK', '솔루션 아키텍처', 'ORM', 'ABAP', 'FLUTTER', 'GCP', 'ARDUINO', 'SMTP', 'RHEL', 'TCP', 'OSS', 'STATA', 'XP', 'SPA', 'SQL', 'GPU', 'SCM', 'MDX', 'FIGMA', '무선 통신', 'SKETCHUP', 'UNIX', 'ACTIVE DIRECTORY', 'SDLC', 'TYPESCRIPT', 'POWER BI', 'KUBERNETES', 'RS232', 'XILINX', '백엔드 개발', 'DOCKER', 'METAL', 'SLACK', 'WEBGL', 'LARAVEL', '예측 모델링', 'HCI', 'CSS', 'RUST', 'GOOGLE TAG MANAGER', 'DIRECTX', 'SSL', 'MES', 'GOOGLE MAPS', 'NEST.JS', 'DSL', 'SOLIDWORKS', 'XAMARIN', 'SCIPY', 'VPN', 'TEAMCITY', 'CENTOS', '윈도우 모바일', '로봇', '서버 아키텍처', 'TCL', 'SSAS', 'FLASH', 'SVELTE', 'USER STORIES', 'CCNP', '가상화', 'FMEA', 'AIX', 'BGP', 'NODE.JS', 'LTE', 'RASPBERRY PI', 'JENKINS', 'ELASTICSEARCH', 'GRADLE', 'SPLUNK', 'MULTI TASKING', 'APACHE KAFKA', 'JIRA', 'RHINO 3D', '솔루션 개발', 'XHTML', 'QLIKVIEW', 'EC2', 'SKETCH', 'CODEIGNITER', 'PHP', 'AMAZON REDSHIFT', 'FASTAPI', 'DWDM', 'PERFORCE', 'ASANA', 'FRAMER', 'SQLITE', 'DLP', 'B2C', 'WBS', 'BI', 'CAN', 'RETROFIT2', 'DICOM', 'MIXPANEL', 'CMS', '웹 개발', 'B2B', 'ENCASE', 'LIN', 'STP', 'PALANTIR', 'GRAPHQL', 'MVC', 'UI 디자인', 'JAVA', 'MYSQL', 'RDBMS', 'GCPS', 'ELIXIR', 'DJANGO', 'AJAX', 'AMPLITUDE', 'ADOBE', 'SWIFT', 'DART FOR PUBLISHERS', 'DHCP', 'JPA', 'VERILOG']\n",
      "['120493', '0', '0', '0', '0', '0', '0', '0', '0', '0', '1', '0', '3', '0', '0', '0', '0', '0', '0', '0', '0', '0', '0', '1', '0', '0', '0', '0', '0', '0', '0', '0', '0', '0', '0', '0', '0', '0', '0', '0', '0', '0', '0', '0', '0', '0', '0', '0', '0', '0', '0', '0', '0', '0', '0', '0', '0', '0', '0', '0', '0', '0', '0', '0', '0', '0', '0', '0', '0', '0', '0', '0', '0', '0', '0', '0', '0', '0', '0', '0', '0', '0', '0', '0', '0', '0', '0', '0', '0', '0', '0', '0', '0', '0', '0', '0', '0', '0', '0', '0', '0', '0', '0', '0', '0', '0', '0', '0', '0', '0', '0', '0', '0', '0', '0', '0', '0', '0', '0', '0', '0', '0', '0', '0', '0', '0', '0', '0', '0', '0', '0', '0', '0', '0', '0', '0', '0', '0', '0', '0', '0', '0', '0', '0', '0', '0', '0', '0', '0', '0', '0', '0', '0', '0', '0', '0', '0', '0', '0', '0', '0', '0', '0', '0', '0', '0', '0', '0', '0', '0', '0', '0', '0', '0', '0', '0', '0', '0', '0', '0', '0', '0', '0', '0', '0', '0', '0', '0', '0', '0', '0', '0', '0', '0', '0', '0', '0', '0', '0', '0', '0', '0', '0', '0', '0', '0', '0', '0', '0', '0', '0', '0', '0', '0', '0', '0', '0', '0', '0', '0', '0', '0', '0', '0', '0', '0', '0', '0', '0', '0', '0', '0', '0', '0', '0', '0', '0', '0', '0', '0', '0', '0', '0', '0', '0', '0', '0', '0', '0', '0', '0', '0', '0', '0', '0', '0', '0', '0', '0', '0', '0', '0', '0', '0', '0', '0', '0', '0', '0', '0', '0', '0', '0', '0', '0', '0', '0', '0', '0', '0', '0', '0', '0', '0', '0', '0', '0', '0', '0', '0', '0', '0', '0', '0', '0', '0', '0', '0', '0', '0', '0', '0', '0', '0', '0', '0', '0', '0', '0', '0', '0', '0', '0', '0', '0', '0', '0', '0', '0', '0', '0', '1', '0', '0', '0', '0', '0', '0', '0', '0', '0', '0', '0', '0', '0', '0', '0', '0', '0', '0', '0', '0', '0', '0', '0', '0', '0', '0', '0', '0', '0', '0', '0', '0', '0', '0', '0', '0', '0', '0', '0', '0', '0', '0', '0', '0', '0', '0', '0', '0', '0', '0', '0', '0', '0', '0', '0', '0', '0', '0', '0', '0', '0', '0', '0', '0', '0', '0', '0', '0', '0', '0', '0', '0', '0', '0', '0', '0', '0', '0', '0', '0', '0', '0', '0', '0', '0', '0', '0', '0', '0', '0', '0', '0', '0', '3', '1', '0', '0', '0', '0', '0', '0', '0', '0', '0', '0', '0', '0']\n",
      "['82530', '0', '0', '0', '0', '0', '0', '0', '0', '0', '1', '0', '0', '0', '0', '0', '0', '0', '0', '0', '0', '0', '0', '3', '0', '0', '0', '0', '0', '0', '0', '0', '0', '0', '0', '0', '0', '0', '0', '0', '0', '0', '0', '0', '0', '0', '0', '0', '0', '0', '0', '0', '0', '0', '0', '0', '0', '0', '0', '0', '0', '0', '0', '0', '0', '0', '0', '0', '0', '0', '0', '0', '0', '0', '0', '0', '0', '0', '0', '0', '0', '0', '0', '0', '0', '0', '0', '0', '0', '0', '0', '0', '0', '0', '1', '0', '0', '0', '0', '0', '0', '0', '0', '0', '0', '0', '0', '0', '0', '0', '0', '0', '0', '1', '0', '0', '0', '0', '0', '0', '0', '0', '0', '0', '0', '0', '0', '0', '0', '1', '0', '0', '0', '0', '0', '0', '0', '0', '0', '0', '0', '0', '1', '0', '0', '0', '0', '2', '0', '0', '0', '0', '0', '0', '0', '0', '0', '0', '0', '0', '0', '0', '0', '0', '0', '0', '0', '0', '0', '0', '0', '0', '0', '0', '0', '0', '0', '0', '0', '0', '0', '0', '0', '0', '0', '0', '0', '0', '0', '0', '0', '0', '0', '0', '0', '0', '1', '0', '0', '0', '0', '0', '0', '0', '0', '0', '0', '0', '0', '0', '0', '0', '0', '0', '0', '0', '0', '0', '0', '0', '1', '0', '0', '0', '0', '0', '0', '0', '0', '0', '0', '0', '0', '0', '0', '0', '0', '0', '0', '0', '0', '0', '0', '0', '0', '0', '0', '0', '0', '0', '0', '0', '0', '0', '0', '0', '0', '0', '0', '0', '0', '0', '0', '0', '0', '0', '0', '0', '0', '0', '3', '0', '0', '0', '0', '0', '0', '0', '0', '0', '0', '0', '0', '0', '0', '0', '0', '0', '3', '0', '0', '0', '0', '0', '0', '0', '0', '0', '0', '0', '0', '0', '0', '0', '0', '0', '0', '0', '0', '0', '0', '0', '0', '0', '0', '0', '0', '0', '0', '0', '0', '0', '0', '0', '0', '1', '0', '0', '0', '0', '0', '1', '0', '0', '0', '0', '0', '0', '0', '0', '0', '0', '0', '0', '1', '0', '0', '0', '0', '0', '0', '0', '0', '0', '0', '0', '0', '0', '0', '0', '0', '0', '0', '0', '0', '0', '0', '0', '0', '0', '0', '0', '0', '0', '0', '0', '0', '0', '0', '0', '0', '1', '0', '0', '0', '0', '0', '0', '0', '0', '0', '0', '0', '0', '0', '0', '0', '0', '0', '0', '0', '0', '0', '0', '0', '0', '0', '0', '0', '0', '0', '0', '0', '0', '0', '0', '0', '0', '0', '0', '0', '0', '0', '0', '0', '0', '0', '0', '0']\n"
     ]
    }
   ],
   "source": [
    "with open(\"data/qual_pref_skill_scaling.csv\",'r', encoding=\"UTF-8\") as fo:\n",
    "    reader = csv.reader(fo)\n",
    "    cnt = 1\n",
    "    for row in reader:\n",
    "        if cnt > 3:\n",
    "            break\n",
    "            \n",
    "        print(row)\n",
    "        \n",
    "        cnt +=1"
   ]
  },
  {
   "cell_type": "markdown",
   "id": "30d0d546",
   "metadata": {},
   "source": [
    "# 데이터 확인"
   ]
  },
  {
   "cell_type": "markdown",
   "id": "1220c3f8",
   "metadata": {},
   "source": [
    "120493,\"['JAVA', 'SPRING BOOT']\",\"['GIT', '관리']\",\"['MongoDB', 'MySQL', 'SQL']\"\n",
    "\n",
    "JAVA 3\n",
    "SPRING BOOT 3\n",
    "GIT 1\n",
    "MONGODB 1\n",
    "MYSQL 1\n",
    "SQL 1\n",
    "\n",
    "82530\t['AWS', 'MONGODB', '인프라']\t['설계', 'PYTHON', 'SHELL', '모델링', 'JAVASCRIPT']\t['Git', 'JIRA', 'React', 'CSS', 'HTML', 'JavaScript', 'TypeScript', 'Figma', 'Next.js', 'Vue.JS']\n",
    "\n"
   ]
  },
  {
   "cell_type": "code",
   "execution_count": 23,
   "id": "a424c6ee",
   "metadata": {},
   "outputs": [
    {
     "data": {
      "text/plain": [
       "['VUEJS', 'VUE.JS']"
      ]
     },
     "execution_count": 23,
     "metadata": {},
     "output_type": "execute_result"
    }
   ],
   "source": [
    "skillset_dict['VUE']"
   ]
  },
  {
   "cell_type": "markdown",
   "id": "088c1406",
   "metadata": {},
   "source": [
    "# 유사도 검증"
   ]
  },
  {
   "cell_type": "code",
   "execution_count": 57,
   "id": "bce6d626",
   "metadata": {},
   "outputs": [
    {
     "name": "stdout",
     "output_type": "stream",
     "text": [
      "0    2\n",
      "Name: HADOOP, dtype: int64\n",
      "0    2\n",
      "Name: PYTHON, dtype: int64\n",
      "0    1\n",
      "Name: SPARK, dtype: int64\n",
      "0    1\n",
      "Name: TABLEAU, dtype: int64\n",
      "\n",
      "\n",
      "\n",
      "  ========== 링크 ==========\n",
      "https://www.wanted.co.kr/wd/147952\n",
      "0.8571946154145231\n",
      "https://www.wanted.co.kr/wd/123285\n",
      "0.7905694150420948\n",
      "https://www.wanted.co.kr/wd/81835\n",
      "0.7905694150420948\n",
      "https://www.wanted.co.kr/wd/111786\n",
      "0.7319250547114\n",
      "https://www.wanted.co.kr/wd/144065\n",
      "0.7181324987175317\n",
      "https://www.wanted.co.kr/wd/125721\n",
      "0.7071067811865475\n",
      "https://www.wanted.co.kr/wd/161700\n",
      "0.7071067811865475\n",
      "https://www.wanted.co.kr/wd/92395\n",
      "0.6674238124719146\n",
      "https://www.wanted.co.kr/wd/159253\n",
      "0.6450098726756487\n",
      "https://www.wanted.co.kr/wd/141778\n",
      "0.6324555320336759\n"
     ]
    }
   ],
   "source": [
    "import pandas as pd\n",
    "from sklearn.metrics.pairwise import cosine_similarity\n",
    "\n",
    "# Load the job offering dataset with one-hot encoded skills\n",
    "job_data = pd.read_csv(\"data/qual_pref_skill_scaling.csv\", encoding=\"utf-8\")\n",
    "\n",
    "user_skills = {\n",
    "    'HADOOP': 2,\n",
    "    'PYTHON': 2,\n",
    "    'SPARK': 1,\n",
    "    'TABLEAU': 1\n",
    "}\n",
    "\n",
    "user_profile = pd.DataFrame(0, index=[0], columns=job_data.columns[1:])\n",
    "\n",
    "# 유저 프로필 데이터 입력\n",
    "for skill, grade in user_skills.items():\n",
    "    skill = skill.upper()\n",
    "    if skill in user_profile.columns:\n",
    "        user_profile[skill] = grade\n",
    "\n",
    "# 입력 값 확인\n",
    "\n",
    "for key in user_skills.keys():\n",
    "    print(user_profile[key])\n",
    "\n",
    "similarity_scores = cosine_similarity(user_profile, job_data.iloc[:, 1:])\n",
    "\n",
    "job_data['similarity_score'] = similarity_scores[0]\n",
    "\n",
    "recommended_jobs = job_data.nlargest(10, 'similarity_score')\n",
    "\n",
    "rocommended_urls = recommended_jobs['id'].tolist()\n",
    "recommended_score = recommended_jobs['similarity_score'].tolist()\n",
    "\n",
    "\n",
    "print(\"\\n\\n\\n \", \"=\"*10, \"링크\", \"=\"*10)\n",
    "\n",
    "for i in range(len(rocommended_urls)):\n",
    "    print(\"https://www.wanted.co.kr/wd/\"+str(rocommended_urls[i]))\n",
    "    print(recommended_score[i])"
   ]
  },
  {
   "cell_type": "code",
   "execution_count": null,
   "id": "408ad58b",
   "metadata": {},
   "outputs": [],
   "source": []
  }
 ],
 "metadata": {
  "kernelspec": {
   "display_name": "Python 3 (ipykernel)",
   "language": "python",
   "name": "python3"
  },
  "language_info": {
   "codemirror_mode": {
    "name": "ipython",
    "version": 3
   },
   "file_extension": ".py",
   "mimetype": "text/x-python",
   "name": "python",
   "nbconvert_exporter": "python",
   "pygments_lexer": "ipython3",
   "version": "3.9.16"
  },
  "toc": {
   "base_numbering": 1,
   "nav_menu": {},
   "number_sections": true,
   "sideBar": true,
   "skip_h1_title": false,
   "title_cell": "Table of Contents",
   "title_sidebar": "Contents",
   "toc_cell": false,
   "toc_position": {},
   "toc_section_display": true,
   "toc_window_display": false
  }
 },
 "nbformat": 4,
 "nbformat_minor": 5
}
