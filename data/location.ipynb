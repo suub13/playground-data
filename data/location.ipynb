{
 "cells": [
  {
   "cell_type": "code",
   "execution_count": 2,
   "metadata": {},
   "outputs": [],
   "source": [
    "import csv"
   ]
  },
  {
   "cell_type": "code",
   "execution_count": 8,
   "metadata": {},
   "outputs": [
    {
     "name": "stdout",
     "output_type": "stream",
     "text": [
      "{'', \"['강원', '한국']\", \"['세종', '한국']\", \"['충북', '한국']\", \"['대구', '한국']\", \"['경기', '한국']\", \"['울산', '한국']\", \"['대전', '한국']\", \"['경북', '한국']\", \"['충남', '한국']\", \"['부산', '한국']\", \"['광주', '한국']\", \"['서울', '한국']\", \"['경남', '한국']\", \"['한국']\", \"['인천', '한국']\", \"['제주', '한국']\", \"['전북', '한국']\"}\n"
     ]
    }
   ],
   "source": [
    "\n",
    "location_set = set()\n",
    "\n",
    "with open(\"crawled_data_combined.csv\", \"r\", encoding=\"utf-8\") as f:\n",
    "    reader = csv.reader(f)\n",
    "    data = list(reader)\n",
    "    for i in data[1:]:\n",
    "        location_set.add(i[5])\n",
    "\n",
    "print(location_set)"
   ]
  },
  {
   "cell_type": "code",
   "execution_count": 9,
   "metadata": {},
   "outputs": [
    {
     "data": {
      "text/plain": [
       "['',\n",
       " \"['강원', '한국']\",\n",
       " \"['세종', '한국']\",\n",
       " \"['충북', '한국']\",\n",
       " \"['대구', '한국']\",\n",
       " \"['경기', '한국']\",\n",
       " \"['울산', '한국']\",\n",
       " \"['대전', '한국']\",\n",
       " \"['경북', '한국']\",\n",
       " \"['충남', '한국']\",\n",
       " \"['부산', '한국']\",\n",
       " \"['광주', '한국']\",\n",
       " \"['서울', '한국']\",\n",
       " \"['경남', '한국']\",\n",
       " \"['한국']\",\n",
       " \"['인천', '한국']\",\n",
       " \"['제주', '한국']\",\n",
       " \"['전북', '한국']\"]"
      ]
     },
     "execution_count": 9,
     "metadata": {},
     "output_type": "execute_result"
    }
   ],
   "source": [
    "list(location_set)"
   ]
  },
  {
   "cell_type": "code",
   "execution_count": 29,
   "metadata": {},
   "outputs": [
    {
     "name": "stdout",
     "output_type": "stream",
     "text": [
      "강원\n",
      "세종\n",
      "충북\n",
      "대구\n",
      "경기\n",
      "울산\n",
      "대전\n",
      "경북\n",
      "충남\n",
      "부산\n",
      "광주\n",
      "서울\n",
      "경남\n",
      "한국\n",
      "인천\n",
      "제주\n",
      "전북\n"
     ]
    }
   ],
   "source": [
    "import ast\n",
    "\n",
    "for i in list(location_set):\n",
    "    locations = ast.literal_eval(i) if i else [\"\"]\n",
    "    if locations != [\"\"]:\n",
    "        print(locations[0])\n",
    "\n",
    "\n",
    "# prefs_L = ast.literal_eval(pref) if pref else []"
   ]
  }
 ],
 "metadata": {
  "kernelspec": {
   "display_name": "Python 3",
   "language": "python",
   "name": "python3"
  },
  "language_info": {
   "codemirror_mode": {
    "name": "ipython",
    "version": 3
   },
   "file_extension": ".py",
   "mimetype": "text/x-python",
   "name": "python",
   "nbconvert_exporter": "python",
   "pygments_lexer": "ipython3",
   "version": "3.10.9"
  },
  "orig_nbformat": 4
 },
 "nbformat": 4,
 "nbformat_minor": 2
}
