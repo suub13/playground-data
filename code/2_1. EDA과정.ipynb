{
 "cells": [
  {
   "attachments": {},
   "cell_type": "markdown",
   "metadata": {},
   "source": [
    "# crawled_data_combined.csv 파일에서 전처리를 위한 데이터 확인 (EDA) 작업"
   ]
  },
  {
   "attachments": {},
   "cell_type": "markdown",
   "metadata": {},
   "source": [
    "### Tag 옵션"
   ]
  },
  {
   "attachments": {},
   "cell_type": "markdown",
   "metadata": {},
   "source": [
    "#### 2000개"
   ]
  },
  {
   "cell_type": "code",
   "execution_count": 83,
   "metadata": {},
   "outputs": [
    {
     "name": "stdout",
     "output_type": "stream",
     "text": [
      "{'셔틀버스', '자율복장', 'IoT', '설립10년이상', '세미나참가비', '퇴사율5%이하', '워크샵', '어린이집', '주35시간', '위워크', '보건, 사회복지', '301~1,000명', '산업기능요원', '석식제공', '와인', '원격근무', 'iMac', '퇴사율 6~10%', '간식', '숙박, 음식점', '스톡옵션', '연봉상위1%', '부동산', '결혼기념일', '판매, 유통', '연말보너스', '인원급성장', '연봉업계평균이상', '의료비', '사업지원', '택시비', '물류, 운송', '음료', '교육비', '50명이하', '수평적조직', '전문, 과학기술', '차량지원', '문화비', '인원성장', '운동비', '설립4~9년', '51~300명', '기타 서비스업', '주차', '유연근무', '시리얼', '인공지능', '사내식당', '제조', '대출지원', '생일선물', '조식제공', '리프레시휴가', '보육시설', '수유실', '1,001~10,000명', '자기계발', '어학교육', '직무교육', '스터디지원', '건강검진', '식비', '복지포인트', '스타트업', '수면실', '단체보험', '통신비', '성과급', '금융', '노트북', '육아휴직', '푸드테크', '핀테크', '연봉상위6~10%', '설립3년이하', '헬스장', '동호회', '건설', '재택근무', '누적투자100억이상', '연봉상위11~20%', '휴게실', '기숙사', '출산휴가', '야근없음', '과일', '안마의자', '10,001명이상', '커피', '컨퍼런스참가비', 'Macbook', '전문연구요원', '상여금', '도서구매비', '샐러드', 'IT, 컨텐츠', '중식제공', '반려동물', '예술, 스포츠, 여가', '사내카페', '맥주', '사택', '교육'}\n",
      "15247\n",
      "104\n"
     ]
    }
   ],
   "source": [
    "import re\n",
    "\n",
    "with open(\"../data/crawled_data_combined_2000.csv\", encoding=\"utf-8\") as f:\n",
    "    reader = csv.reader(f)\n",
    "    # 태그 하나씩 쪼개서 넣을 리스트 (set으로 중복 제거 전)\n",
    "    tagList = []\n",
    "\n",
    "    # csv 파일 리더로, 한 row씩 읽기\n",
    "    for row in reader:\n",
    "\n",
    "        # row list의 6번째 element인 tags string을 ''안 단어들로 나눠서 list만들기\n",
    "        tags = re.findall(r\"'(.*?)'\", row[6])     \n",
    "\n",
    "        # 각 줄의 태그를 tagList에 넣는다.\n",
    "        tagList += tags\n",
    "    \n",
    "    tagSet = set(tagList)\n",
    "    print(tagSet)\n",
    "    print(len(tagList))\n",
    "    print(len(tagSet))"
   ]
  },
  {
   "cell_type": "code",
   "execution_count": 84,
   "metadata": {},
   "outputs": [
    {
     "name": "stdout",
     "output_type": "stream",
     "text": [
      "87\n",
      "['셔틀버스', '자율복장', 'IoT', '설립10년이상', '세미나참가비', '퇴사율5%이하', '워크샵', '어린이집', '주35시간', '위워크', '301~1,000명', '산업기능요원', '석식제공', '와인', '원격근무', '퇴사율 6~10%', '간식', '스톡옵션', '연봉상위1%', '결혼기념일', '판매, 유통', '인원급성장', '연봉업계평균이상', '의료비', '택시비', '물류, 운송', '음료', '교육비', '50명이하', '수평적조직', '전문, 과학기술', '인원성장', '설립4~9년', '51~300명', '기타 서비스업', '주차', '유연근무', '시리얼', '인공지능', '사내식당', '제조', '대출지원', '생일선물', '조식제공', '리프레시휴가', '보육시설', '1,001~10,000명', '자기계발', '직무교육', '건강검진', '식비', '복지포인트', '스타트업', '수면실', '단체보험', '통신비', '성과급', '금융', '노트북', '육아휴직', '핀테크', '연봉상위6~10%', '설립3년이하', '헬스장', '동호회', '재택근무', '누적투자100억이상', '연봉상위11~20%', '휴게실', '기숙사', '출산휴가', '과일', '안마의자', '10,001명이상', '커피', 'Macbook', '전문연구요원', '상여금', '도서구매비', '샐러드', 'IT, 컨텐츠', '중식제공', '반려동물', '예술, 스포츠, 여가', '사내카페', '맥주', '교육']\n"
     ]
    }
   ],
   "source": [
    "tags_filter = []\n",
    "for i in tagSet:\n",
    "    if tagList.count(i) >=10:\n",
    "        tags_filter.append(i)\n",
    "\n",
    "print(len(tags_filter))\n",
    "print(tags_filter)"
   ]
  },
  {
   "attachments": {},
   "cell_type": "markdown",
   "metadata": {},
   "source": [
    "#### Total"
   ]
  },
  {
   "cell_type": "code",
   "execution_count": 85,
   "metadata": {},
   "outputs": [
    {
     "name": "stdout",
     "output_type": "stream",
     "text": [
      "{'셔틀버스', '자율복장', 'IoT', '설립10년이상', '세미나참가비', '퇴사율5%이하', '전기, 가스', '워크샵', '어린이집', '주35시간', '위워크', '보건, 사회복지', '301~1,000명', '산업기능요원', '석식제공', '와인', '원격근무', 'iMac', '퇴사율 6~10%', '간식', '숙박, 음식점', '스톡옵션', '연봉상위1%', '부동산', '결혼기념일', '판매, 유통', '연말보너스', '인원급성장', '농림어업', '연봉업계평균이상', '의료비', '해외연수', '사업지원', '택시비', '물류, 운송', '음료', '교육비', '50명이하', '수평적조직', '전문, 과학기술', '차량지원', '문화비', '인원성장', '운동비', '설립4~9년', '51~300명', '기타 서비스업', '주차', '유연근무', '시리얼', '인공지능', '사내식당', '제조', '대출지원', '생일선물', '조식제공', '리프레시휴가', '보육시설', '수유실', '1,001~10,000명', '자기계발', '어학교육', '직무교육', '스터디지원', '건강검진', '식비', '복지포인트', '스타트업', '수면실', '단체보험', '통신비', '주4일근무', '성과급', '금융', '노트북', '육아휴직', '푸드테크', '핀테크', '연봉상위6~10%', '설립3년이하', '헬스장', '동호회', '건설', '재택근무', '누적투자100억이상', '연봉상위11~20%', '휴게실', '기숙사', '출산휴가', '야근없음', '과일', '안마의자', '10,001명이상', '커피', '컨퍼런스참가비', 'Macbook', '전문연구요원', '상여금', '도서구매비', '샐러드', '공공행정, 국방', 'IT, 컨텐츠', '중식제공', '반려동물', '예술, 스포츠, 여가', '사내카페', '맥주', '사택', '게임', '교육'}\n",
      "41323\n",
      "110\n"
     ]
    }
   ],
   "source": [
    "import re\n",
    "\n",
    "with open(\"../data/crawled_data_combined.csv\", encoding=\"utf-8\") as f:\n",
    "    reader = csv.reader(f)\n",
    "    # 태그 하나씩 쪼개서 넣을 리스트 (set으로 중복 제거 전)\n",
    "    tagList = []\n",
    "\n",
    "    # csv 파일 리더로, 한 row씩 읽기\n",
    "    for row in reader:\n",
    "\n",
    "        # row list의 6번째 element인 tags string을 ''안 단어들로 나눠서 list만들기\n",
    "        tags = re.findall(r\"'(.*?)'\", row[6])     \n",
    "\n",
    "        # 각 줄의 태그를 tagList에 넣는다.\n",
    "        tagList += tags\n",
    "    \n",
    "    tagSet = set(tagList)\n",
    "    print(tagSet)\n",
    "    print(len(tagList))\n",
    "    print(len(tagSet))"
   ]
  },
  {
   "cell_type": "code",
   "execution_count": 86,
   "metadata": {},
   "outputs": [
    {
     "name": "stdout",
     "output_type": "stream",
     "text": [
      "97\n"
     ]
    }
   ],
   "source": [
    "tags_filter = []\n",
    "for i in tagSet:\n",
    "    if tagList.count(i) >=10:\n",
    "        tags_filter.append(i)\n",
    "\n",
    "print(len(tags_filter))\n"
   ]
  },
  {
   "attachments": {},
   "cell_type": "markdown",
   "metadata": {},
   "source": [
    "## Skill 옵션"
   ]
  },
  {
   "attachments": {},
   "cell_type": "markdown",
   "metadata": {},
   "source": [
    "#### 2000개"
   ]
  },
  {
   "cell_type": "code",
   "execution_count": 2,
   "metadata": {},
   "outputs": [
    {
     "name": "stdout",
     "output_type": "stream",
     "text": [
      "{'TypeScript', '공차 분석', 'IntelliJ IDEA', 'Asterisk', '프론트엔드 개발자', '딥 러닝', '의료 산업', 'Flask', 'UNIX', 'iOS', 'Amplitude', 'Adobe Illustrator', 'GCP', 'SQLite', 'Node.js', 'Adobe Photoshop', 'QA 엔지니어링', 'Nexacro', 'WBS', '시스템 관리', 'CUDA', 'Ruby', '운영체제', 'Notion', 'C / C++', '제어 시스템 설계', 'Communication', 'DLP', 'HCI', '제품 개발', 'Next.js', 'Figma', 'Typeform', 'Confluence', 'Redmine', '가상화', 'Unreal Engine', 'IT 관리', '회로 설계', 'LIS', 'EAI', '카메라', 'Cisco', 'OTN', 'EMC 규정 준수', 'Android Studio', 'OpenCV', 'Google Tag Manager', '수학', 'I2C', '통계 모델링', '스토리지 영역 네트워크', 'Xilinx', 'Hyperledger', 'SAP HR', 'JUnit', '위성 통신', 'Django', 'SoC', 'ISR', 'Svelte', 'EMC Storage', 'HTTP', '프로젝트 관리', 'XHTML', '테스트 실행', 'PaaS', 'ES6', 'OpenStack', '네트워크 인프라', 'RHEL', 'Windows Embedded', 'VHDL', 'Github', 'VueJS', '품질 관리', '안드로이드 개발', '모뎀', '웹 디자인', 'MXNET', 'Processing', 'PCB 디자인', '검증', 'AutoCAD', 'CakePHP', '도메인 관리', 'Windows 서비스', 'FPGA', '서버 아키텍처', '아날로그 회로 설계', 'Visual Studio', 'Hadoop', '데이터 분석', '시스템 구축', '차량', '소프트웨어 개발', 'Blockchain', 'CMS', 'AngularJS', 'CodeIgniter', 'LTE', 'SAP SD', 'EC2', 'SQL', 'FMEA', 'Rhino 3D', 'Raspberry Pi', 'RTL 검증', 'Akka', '성능 측정', 'CSS3', 'WPF 개발', 'TDD', 'GUI', 'Powershell', 'RAID', '컴파일러', '모바일 장치', 'Ubuntu', 'Google Apps', 'Storage', 'DevOps', 'Servlets', '고객 관계', 'PADS', 'REST', 'Framer', 'Vue.JS', 'Ethereum', 'RTOS', 'Maven', '고객 지원', 'GraphQL', 'RTL 설계', 'Active Directory', 'PowerBuilder', 'ETL 도구', 'CAM', '리눅스 커널', 'VMware Infrastructure', '기술 관리', '네트워크 엔지니어링', 'OAuth', 'Firebase', 'RS232', '품질 보증', 'HTML', '알고리즘 개발', '정보관리', 'API', '인버터', 'Oracle RAC', 'AJAX', 'GCPs', '애자일 방법론', 'C++', '회로 분석', 'CRM', '네트워크 개발', 'Excel', 'ObjectiveC', 'VoIP', 'LINQ', 'XAML', 'React', 'Retrofit2', 'CAD', 'Coroutine', 'Sketch', 'Windows 8', 'SaaS', 'ASP .NET', 'CSS', 'DBT', 'iBatis', 'C#', 'JIRA', 'Spring Framework', '보안 정책', 'WinForm', 'Zemax', 'ERP 구현', 'OpenMP', 'UX', '무선 통신', 'Xcode', 'CAN', 'RTL 코딩', 'Spring Boot', 'Go', 'B2B', 'JSP 개발', 'GruntJS', '리팩토링', 'Python', '회로', '펌웨어', '3D 모델링', 'React Native', 'VR', '기술 개발', '.NET Core', 'Tomcat', 'React.js', '데이터 마트', 'Google Maps', 'MFC', 'PostgreSQL', 'JSTL', 'PCB 레이아웃 설계', 'Web Socket', 'DHCP', 'AR', '네트워크 관리', 'DNS', '기술 교육', '전자정부프레임워크', 'Flutter', 'SNMP', 'Telerik', 'IoT', 'MSSQL', '데이터베이스', 'Splunk', 'WebRTC', 'Apache', 'DWDM', 'SAP FI', 'Apache Kafka', 'QC', '클라우드 응용 프로그램', 'Kotlin', 'Shell Scripting', '로봇', 'ORCAD', 'Slack', 'CSS 자바 스크립트', 'Qt', 'Laravel', 'User Experience', 'Spark', 'Android', 'Jenkins', 'CCNA', 'SOLR', 'Restful API', 'SSIS', 'SDLC', '정보 보안', 'SAP ERP', '영어 실력', 'Office 365', 'Embedded C', 'ADC', 'RESTful WebServices', 'Hilt', 'Stata', 'Product Management ', '스토리지 솔루션', 'SSL', 'PHP', 'SAP MM', 'Adobe XD', '프로젝트 실행', 'Amazon Web Service', 'Revit', 'MVVM', 'HP', '임베디드 소프트웨어', 'OLAP', '모바일 기술', '서버', '네트워크 운영', 'debugging', '샘플 관리', 'Scikit-Learn', 'Data Analysis', '최적화', 'PKI', '보안 교육', 'MMO', 'JSON', 'NumPy', '개발', 'TestNG', 'User Stories', 'CentOS', 'Apache 2', 'IIS', 'NFC', '서버 관리', '솔루션 개발', 'ITIL', '금융', 'RabbitMQ', '3G', 'GitLab', '웹 개발', '로봇 프로그래밍', 'UX 기획', 'Redis', '강의', 'NLP', 'Perl', 'STL', 'MDX', '자동차', 'AWS', '서비스 디자인', '샘플 준비', 'RPG', 'Mac', 'Shader', '.NET', 'IT 운영', 'ABAP', 'ORM', 'VB .NET', 'EMR', 'Tensorflow', '컴퓨터 비전', 'Mixpanel', 'SPSS', 'RFP', 'API 개발', 'Xamarin', 'Citrix', '인터페이스', 'ERP 소프트웨어', 'Scrum', 'PLC', 'VDI', 'VBA', '레이더', '교육 관리', '전원 엔지니어링', 'WordPress', 'SPI', 'SMTP', 'CISA', 'Audit Command Language (ACL)', 'MySQL', '하드웨어 설계', 'MATLAB', 'ML', 'VM웨어', 'NoSQL', 'CCIE', 'OSS', 'Agile', 'Apple Software', 'Scala', 'SASS', 'BGP', '네트워크 통신', 'SVG', 'JPA', 'C', 'Simulink', 'Mobile App Design', 'Windows 원격 데스크톱', '모바일 게임', 'SCM', '네트워크 보안', 'Windows 서버', 'PADS Layout', '백신', 'Perforce', 'SVN', 'HTML5', 'PACS', 'RDBMS', 'Axure', 'Bash', 'SSRS', '컴퓨터 공학', '웹사이트', 'Xen', 'Power BI', 'jQuery', 'WPF', 'GPU', '의료 기기', 'RF', '인공 지능', 'Asana', 'BitBucket', '프로그램 관리', 'IP', 'ASP', 'MongoDB', 'Visual Basic', '데이터 시각화', 'Embedded Linux', 'Spa', 'NodeJS', '일본어', 'ETL', 'Swift', 'Gradle', 'Tableau', 'ISO', '기술 문서', 'JavaScript', '반도체', 'SciPy', 'Delphi', 'WebGL', 'Bootstrap', '앱 서버', '윈도우 모바일', 'Google Cloud Platform', 'MVC', '애자일 프로젝트 관리', 'R', '의료 장비', 'NAS', 'Pytorch', 'OpenCL', 'XP', 'B2C', 'Azure', 'SSH', 'Unity3D', '그래픽 디자인', 'PMP', 'UDP', 'Rust', 'Entity Framework', 'Microsoft Server', 'Linux', 'SketchUp', 'Zeplin', 'Ruby on Rails', 'ExpressJS', 'SAP FICO', 'QlikView', 'Shell', 'ASIC', '임베디드 시스템', 'CISSP', '방화벽', 'Git', '통신', 'DART for Publishers', '리눅스 서버', 'Kubernetes', 'MES', '검색 엔진', 'IPS', 'SAP', 'EDA', 'LESS', 'STP', 'ROS', 'TCL', 'SONET', 'iOS 개발', 'Nginx', 'Multi Tasking', 'Children', '프로토 타이핑', '보안 감사', 'Nest.js', 'JSP', 'POS', '영상', 'RESTful Architecture', 'ANSI C', '보안 관리', '연구 및 개발', 'Clustering', 'DSP', 'EnCase', 'Metal', '하드웨어', '복제', 'Verilog', '윈도우 프로그래밍', '프레젠테이션', 'Oracle', '인프라', 'Docker', '유지보수', 'FPGA 프로토 타이핑', 'WebSphere MQ', 'VPN', 'OOP', 'Flow', 'LiDAR', '교육 기술', 'ElasticSearch', '안드로이드 SDK', 'GIS', '네트워크 설계', 'TCP', 'Apache Spark', 'Oracle SQL', 'Golang', '브랜딩', '신호 처리', '리눅스 시스템 관리', 'JsonAPI', 'SEO', 'Neo4j', 'Java', 'SQL 서버', 'Rx', 'SD', 'Google Analytics', '라이브러리 관리', 'Palantir', 'UI 디자인', 'OpenGL', '모터 제어', 'SAP 구현', '전자 공학', '보안', '의료 영상', 'Redux', 'FastAPI', 'SAS', 'Visual Studio Code', '백엔드 개발', '전력전자학'}\n",
      "10863\n",
      "525\n"
     ]
    }
   ],
   "source": [
    "import re\n",
    "import csv\n",
    "\n",
    "with open(\"../data/crawled_data_combined_2000.csv\", encoding=\"utf-8\") as f:\n",
    "    reader = csv.reader(f)\n",
    "    # 태그 하나씩 쪼개서 넣을 리스트 (set으로 중복 제거 전)\n",
    "    skillsList = []\n",
    "    # count = 1\n",
    "    # csv 파일 리더로, 한 row씩 읽기\n",
    "    for row in reader:\n",
    "\n",
    "        # if count == 3:\n",
    "        #     break\n",
    "        # row list의 10번째 element인 tags string을 ''안 단어들로 나눠서 list만들기\n",
    "        skills = re.findall(r\"'(.*?)'\", row[10])     \n",
    "        # print(row[10])\n",
    "\n",
    "        # 각 줄의 태그를 tagList에 넣는다.\n",
    "        skillsList += skills\n",
    "\n",
    "\n",
    "        # count += 1\n",
    "\n",
    "        \n",
    "    \n",
    "    skillsSet = set(skillsList)\n",
    "    print(skillsSet)\n",
    "    print(len(skillsList))\n",
    "    print(len(skillsSet))"
   ]
  },
  {
   "cell_type": "code",
   "execution_count": 3,
   "metadata": {},
   "outputs": [
    {
     "name": "stdout",
     "output_type": "stream",
     "text": [
      "135\n"
     ]
    }
   ],
   "source": [
    "skills_filter = []\n",
    "for i in skillsSet:\n",
    "    if skillsList.count(i) >= 10:\n",
    "        skills_filter.append(i)\n",
    "print(len(skills_filter))"
   ]
  },
  {
   "attachments": {},
   "cell_type": "markdown",
   "metadata": {},
   "source": [
    "#### total"
   ]
  },
  {
   "cell_type": "code",
   "execution_count": 4,
   "metadata": {},
   "outputs": [
    {
     "name": "stdout",
     "output_type": "stream",
     "text": [
      "{'TypeScript', '공차 분석', 'IntelliJ IDEA', 'Asterisk', 'Solidworks', 'HMI', 'Eclipse', '프론트엔드 개발자', '딥 러닝', 'Kernel Programming', '의료 산업', 'Flask', 'UNIX', 'iOS', 'Amplitude', 'Adobe Illustrator', 'GCP', '서비스 관리', 'GPS', '클라이언트 개발', 'SQLite', 'Elixir', 'Node.js', 'Adobe Photoshop', 'QA 엔지니어링', 'Nexacro', 'WBS', '시스템 관리', 'CUDA', 'Ruby', '운영체제', 'Notion', 'C / C++', '제어 시스템 설계', 'Communication', 'DLP', 'HCI', '제품 개발', 'Next.js', 'Figma', 'Typeform', 'Confluence', 'OFDM', 'Redmine', 'Heroku', '가상화', 'Unreal Engine', 'IT 관리', '회로 설계', 'LIS', 'EAI', 'FTP', '카메라', 'Cisco', 'OTN', 'EMC 규정 준수', 'Android Studio', 'OpenCV', 'Google Tag Manager', '수학', 'I2C', '통계 모델링', '스토리지 영역 네트워크', 'Xilinx', 'Hyperledger', '알고리즘 설계', 'SAP HR', 'JUnit', '위성 통신', 'Django', 'SoC', 'ISR', 'Svelte', 'EMC Storage', 'HTTP', '프로젝트 관리', 'XHTML', '테스트 실행', 'PaaS', 'ES6', 'OpenStack', '네트워크 인프라', 'Struts', 'MS 오피스', 'RHEL', 'Windows Embedded', 'VHDL', 'Github', 'VueJS', '품질 관리', '안드로이드 개발', '클라우드 스토리지', '모뎀', '웹 디자인', 'MXNET', 'Processing', 'PCB 디자인', '검증', 'AutoCAD', 'CakePHP', '솔루션 아키텍처', '모델링', '도메인 관리', 'Windows 서비스', '머신 비전', 'CRM 통합', 'Oracle Database', 'Adobe', 'FPGA', '서버 아키텍처', '아날로그 회로 설계', 'Visual Studio', '데이터 통합', 'Hadoop', '데이터 분석', '시스템 구축', '차량', '소프트웨어 개발', 'Blockchain', 'CMS', 'AngularJS', 'CodeIgniter', 'LTE', 'SAP SD', '카산드라', 'EC2', 'SQL', 'FMEA', 'Rhino 3D', 'Microchip PIC', 'AUTOSAR', 'Raspberry Pi', 'RTL 검증', 'Akka', '성능 측정', 'CSS3', 'WPF 개발', '구매 관리', 'TDD', 'GUI', 'Powershell', 'RAID', '컴파일러', '모바일 장치', 'Ubuntu', 'Google Apps', 'DICOM', 'Storage', 'DevOps', 'Servlets', '고객 관계', 'PADS', '클라우드 컴퓨팅', 'REST', 'IVR', 'Framer', 'Vue.JS', 'Ethereum', 'RTOS', 'Maven', '고객 지원', 'GraphQL', 'RTL 설계', 'Active Directory', 'PowerBuilder', 'ETL 도구', 'CAM', '리눅스 커널', 'VMware Infrastructure', '기술 관리', '네트워크 엔지니어링', 'OAuth', 'Firebase', 'RS232', '품질 보증', 'HTML', '알고리즘 개발', '정보관리', 'API', '인버터', 'Oracle RAC', 'AJAX', 'GCPs', 'Trello', '공공 부문', '애자일 방법론', 'C++', '데이터 구조', 'Google Webmaster Tools', 'GCC', '회로 분석', '비즈니스 분석', 'CRM', '네트워크 개발', 'Excel', 'ObjectiveC', 'VoIP', 'LINQ', 'XAML', 'React', 'Retrofit2', 'MIMO', 'CAD', 'UX 디자인', 'Coroutine', 'Sketch', 'GLSL', 'Windows 8', 'SaaS', 'ASP .NET', 'CSS', 'DBT', '요구 사항 분석', '데이터 입력', 'iBatis', 'C#', '제안서 작성', 'JIRA', 'Spring Framework', '소프트웨어 검증', '보안 정책', 'WinForm', 'Zemax', 'ERP 구현', '분석 문제 해결', 'OpenMP', 'UX', '무선 통신', 'Debian', '모델링 및 시뮬레이션', 'Xcode', 'CAN', 'RTL 코딩', 'Spring Boot', 'Go', 'B2B', 'JSP 개발', 'GIS 시스템', 'GruntJS', '리팩토링', 'Python', '회로', '펌웨어', '데이터 수집', '3D 모델링', 'React Native', '설계', 'HTA', 'VR', '기술 개발', '.NET Core', '분석 서비스', 'Tomcat', 'React.js', '데이터 마트', 'Google Maps', 'MFC', 'PostgreSQL', 'JSTL', 'PCB 레이아웃 설계', '마이크로프로세서', 'Web Socket', '예측 모델링', 'DHCP', 'AR', '네트워크 관리', 'DNS', '기술 교육', '전자정부프레임워크', 'Flutter', 'SNMP', 'Telerik', 'IoT', 'MSSQL', '데이터베이스', 'Splunk', 'WebRTC', 'Apache', 'DWDM', 'SAP FI', 'Apache Kafka', 'QC', '클라우드 응용 프로그램', 'Kotlin', 'Shell Scripting', '로봇', 'ORCAD', 'Slack', '시스템 구현', 'CSS 자바 스크립트', 'Qt', 'Datastage', '분석 개발', '상품 기획', 'Laravel', 'User Experience', 'Spark', 'Android', 'Jenkins', 'CCNA', 'SOLR', 'Restful API', 'SSIS', 'SDLC', '정보 보안', 'SAP ERP', '영어 실력', 'Office 365', 'Embedded C', '빅 데이터', 'ADC', 'PMO', 'RESTful WebServices', 'Hilt', 'Stata', 'CRM 데이터베이스', 'Product Management ', '스토리지 솔루션', 'Cocoa Touch', 'SSL', 'PHP', 'GIMP', 'SAP MM', 'Adobe XD', '프로젝트 실행', '소켓', 'Amazon Web Service', '암호화', 'PHPUnit', 'SMS', 'Revit', 'MVVM', 'HP', '임베디드 소프트웨어', 'OLAP', 'jQuery UI', '모바일 기술', 'DSL', '서버', '네트워크 운영', 'debugging', '샘플 관리', 'Scikit-Learn', 'Data Analysis', '최적화', '프로토콜 개발', 'PKI', '보안 교육', 'Flash', '운영 관리', 'MMO', 'JSON', 'NumPy', '분석능력', '개발', 'TestNG', 'DirectX', 'User Stories', 'CentOS', 'Apache 2', 'IIS', 'NFC', '서버 관리', '네트워크 프로그래밍', 'BI', '솔루션 개발', 'ITIL', 'Sybase', '금융', 'RabbitMQ', 'DOM', '3G', 'GitLab', '웹 개발', '3D 그래픽', '로봇 프로그래밍', 'UX 기획', 'Redis', '강의', '취약점 스캐닝', 'CTI', 'SAP BW', 'NLP', 'Perl', 'STL', 'MDX', '자동차', 'AWS', '데이터베이스 설계', 'Spine', 'Health Information Technology', '서비스 디자인', '샘플 준비', 'RPG', 'Mac', 'Shader', '.NET', 'IT 운영', 'ABAP', 'ORM', 'VB .NET', 'EMR', 'Tensorflow', 'AIX', '컴퓨터 비전', 'GIS 응용 프로그램', 'Mixpanel', 'SPSS', 'RFP', '시스템 통합', '자동차 전자', 'API 개발', 'Xamarin', 'Citrix', '인터페이스', 'ERP 소프트웨어', 'Scrum', 'TeamCity', 'PLC', 'VDI', 'VBA', '레이더', '3D', 'Wordpress Design', '교육 관리', 'Angular', '고객 중심', '전원 엔지니어링', 'WordPress', 'SPI', 'SMTP', 'CISA', 'Audit Command Language (ACL)', 'MySQL', '하드웨어 설계', 'MATLAB', 'ML', 'CCNP', 'VM웨어', 'NoSQL', 'CCIE', 'OSS', '기계 학습 (Machine Learning)', 'Agile', '클라우드 보안', 'Apple Software', 'Scala', '재고 관리', 'XML', 'SASS', '하드웨어 테스트', 'BGP', '네트워크 통신', 'SSAS', 'SVG', 'JPA', 'C', 'Simulink', 'Mobile App Design', 'Windows 원격 데스크톱', '모바일 게임', 'KYC', 'SCM', '네트워크 보안', 'Windows 서버', 'Juniper', '분석 능력', 'PADS Layout', '백신', 'Perforce', 'SVN', 'HTML5', 'PACS', 'RDBMS', 'Axure', 'POP 디스플레이', 'Bash', 'SSRS', '컴퓨터 공학', '웹사이트', 'Xen', 'Power BI', 'jQuery', 'WPF', 'GPU', '의료 기기', 'RF', '인공 지능', 'Asana', 'BitBucket', '프로그램 관리', 'IP', 'ASP', '프로젝트 납품', 'MongoDB', 'Visual Basic', '데이터 시각화', '자산 관리', 'Embedded Linux', 'Spa', 'NodeJS', '일본어', 'ETL', 'Swift', 'Gradle', '보안 운영', 'Tableau', 'ISO', '기술 문서', 'JavaScript', '반도체', 'SciPy', 'Applicant Tracking System(ATS)', 'Delphi', 'WebGL', 'Bootstrap', '프로세스 개선', '서비스 프로세스', 'Amazon Redshift', '앱 서버', '윈도우 모바일', 'Google Cloud Platform', 'MVC', '애자일 프로젝트 관리', 'DB2', 'R', 'Altium', '의료 장비', 'NAS', 'Pytorch', 'OpenCL', 'SIP', 'XP', 'B2C', 'Azure', 'SSH', 'Unity3D', 'Arduino', '그래픽 디자인', 'CRM 소프트웨어', 'PMP', 'UDP', 'Rust', 'Entity Framework', 'SAP 포털', '네비게이션 시스템', 'Microsoft Server', '생산 계획', 'Linux', 'SketchUp', 'Zeplin', 'Ruby on Rails', 'Diagnostic', '데이터베이스 관리', 'ExpressJS', 'SAP FICO', 'QlikView', 'Shell', 'ASIC', '임베디드 시스템', 'CISSP', '방화벽', 'Git', '모바일 게임 개발', 'iOS 디자인', '통신', 'DART for Publishers', '리눅스 서버', 'RTP', 'Kubernetes', 'MES', '검색 엔진', 'IPS', 'SAP', 'EDA', 'LESS', 'STP', 'ROS', 'TCL', '학술 연구', 'SONET', 'iOS 개발', 'Nginx', 'Multi Tasking', 'Children', 'AAC', '프로토 타이핑', '보안 감사', 'Nest.js', 'JSP', 'POS', '영상', 'RESTful Architecture', 'ANSI C', 'LIN', '보안 관리', '연구 및 개발', 'Clustering', 'DSP', 'EnCase', 'Metal', '하드웨어', '복제', 'Verilog', '윈도우 프로그래밍', '프레젠테이션', 'Solaris ', 'Oracle', '인프라', '구글 API', 'Docker', '유지보수', 'FPGA 프로토 타이핑', 'WebSphere MQ', 'VPN', 'OOP', 'Flow', 'LiDAR', '교육 기술', 'ElasticSearch', '안드로이드 SDK', 'GIS', '네트워크 설계', 'TCP', 'Apache Spark', 'Oracle SQL', 'Golang', '브랜딩', '신호 처리', '리눅스 시스템 관리', 'JsonAPI', 'SEO', '병렬 프로그래밍', 'Neo4j', '학술 출판', 'SAP BI', '보안 금융', '자연 언어 처리', 'Java', 'SQL 서버', 'Rx', 'SD', 'Google Analytics', '라이브러리 관리', 'Palantir', 'UI 디자인', 'OpenGL', '모터 제어', 'SAP 구현', '전자 공학', '보안', '의료 영상', 'Redux', 'FastAPI', '관리', 'SAS', 'Visual Studio Code', '백엔드 개발', '전력전자학'}\n",
      "29385\n",
      "659\n"
     ]
    }
   ],
   "source": [
    "import re\n",
    "\n",
    "with open(\"../data/crawled_data_combined.csv\", encoding=\"utf-8\") as f:\n",
    "    reader = csv.reader(f)\n",
    "    # 태그 하나씩 쪼개서 넣을 리스트 (set으로 중복 제거 전)\n",
    "    skillsList = []\n",
    "    # count = 1\n",
    "    # csv 파일 리더로, 한 row씩 읽기\n",
    "    for row in reader:\n",
    "\n",
    "        # if count == 3:\n",
    "        #     break\n",
    "        # row list의 10번째 element인 tags string을 ''안 단어들로 나눠서 list만들기\n",
    "        skills = re.findall(r\"'(.*?)'\", row[10])     \n",
    "        # print(row[10])\n",
    "\n",
    "        # 각 줄의 태그를 tagList에 넣는다.\n",
    "        skillsList += skills\n",
    "\n",
    "\n",
    "        # count += 1\n",
    "\n",
    "        \n",
    "    \n",
    "    skillsSet = set(skillsList)\n",
    "    print(skillsSet)\n",
    "    print(len(skillsList))\n",
    "    print(len(skillsSet))\n"
   ]
  },
  {
   "cell_type": "code",
   "execution_count": 5,
   "metadata": {},
   "outputs": [
    {
     "name": "stdout",
     "output_type": "stream",
     "text": [
      "169\n",
      "['TypeScript', '프론트엔드 개발자', '딥 러닝', 'Flask', 'UNIX', 'iOS', 'GCP', 'Node.js', 'QA 엔지니어링', '시스템 관리', 'CUDA', 'Ruby', 'Notion', 'C / C++', 'Next.js', 'Figma', 'Confluence', '가상화', 'Unreal Engine', 'Android Studio', 'OpenCV', 'JUnit', 'Django', 'SoC', 'HTTP', 'ES6', 'Github', 'VueJS', '안드로이드 개발', '검증', 'FPGA', 'Hadoop', '시스템 구축', '소프트웨어 개발', 'Blockchain', 'AngularJS', 'SQL', 'CSS3', 'Powershell', 'Ubuntu', 'DevOps', 'REST', 'Vue.JS', 'Maven', 'GraphQL', 'RTL 설계', 'Active Directory', 'Firebase', 'HTML', 'API', 'C++', 'ObjectiveC', 'React', 'ASP .NET', 'CSS', 'C#', 'JIRA', 'Spring Framework', 'Spring Boot', 'Go', 'Python', '펌웨어', 'React Native', 'Tomcat', 'React.js', 'MFC', 'PostgreSQL', 'DNS', 'Flutter', 'IoT', 'MSSQL', 'WebRTC', 'Apache', 'Apache Kafka', 'Kotlin', 'Shell Scripting', 'Slack', 'CSS 자바 스크립트', 'Laravel', 'Spark', 'Android', 'Jenkins', 'Restful API', '정보 보안', 'Office 365', 'Embedded C', 'RESTful WebServices', 'Product Management ', 'PHP', 'MVVM', '임베디드 소프트웨어', 'Scikit-Learn', 'NumPy', '개발', '서버 관리', 'RabbitMQ', 'GitLab', 'Redis', 'Perl', 'AWS', 'Mac', '.NET', 'ABAP', 'ORM', 'Tensorflow', 'API 개발', 'CISA', 'MySQL', 'MATLAB', 'ML', 'VM웨어', 'NoSQL', 'OSS', 'Agile', 'Scala', 'JPA', 'C', 'Windows 서버', 'HTML5', 'RDBMS', 'Bash', 'jQuery', 'WPF', 'BitBucket', 'MongoDB', 'Embedded Linux', 'NodeJS', 'ETL', 'Swift', 'Gradle', 'Tableau', 'JavaScript', 'WebGL', 'Bootstrap', 'Google Cloud Platform', 'R', 'Pytorch', 'Azure', 'Unity3D', 'Rust', 'Linux', 'Ruby on Rails', 'ExpressJS', 'Shell', '임베디드 시스템', 'Git', 'Kubernetes', 'SAP', 'ROS', 'iOS 개발', 'Nginx', 'Nest.js', 'JSP', '보안 관리', 'Verilog', 'Oracle', '인프라', 'Docker', 'OOP', 'ElasticSearch', 'TCP', 'Golang', 'Java', 'Google Analytics', 'OpenGL', '보안', 'Redux', 'FastAPI', '백엔드 개발']\n"
     ]
    }
   ],
   "source": [
    "skills_filter = []\n",
    "for i in skillsSet:\n",
    "    if skillsList.count(i) >= 20:\n",
    "        skills_filter.append(i)\n",
    "print(len(skills_filter))\n",
    "print(skills_filter)"
   ]
  },
  {
   "attachments": {},
   "cell_type": "markdown",
   "metadata": {},
   "source": [
    "# skills pivot file 만들기"
   ]
  },
  {
   "cell_type": "code",
   "execution_count": null,
   "metadata": {},
   "outputs": [],
   "source": [
    "import re\n",
    "with open(\"../data/data_skill_encoding.csv\", 'w', encoding='utf-8') as newfile:\n",
    "    writer = csv.writer(newfile)\n",
    "\n",
    "    with open(\"../data/crawled_data_combined.csv\", encoding=\"utf-8\") as f:\n",
    "        reader = csv.reader(f)\n",
    "        # 태그 하나씩 쪼개서 넣을 리스트 (set으로 중복 제거 전)\n",
    "        skillsList = []\n",
    "        # count = 1\n",
    "        # csv 파일 리더로, 한 row씩 읽기\n",
    "        for row in reader:\n",
    "\n",
    "            # if count == 3:\n",
    "            #     break\n",
    "            # row list의 10번째 element인 tags string을 ''안 단어들로 나눠서 list만들기\n",
    "            skills = re.findall(r\"'(.*?)'\", row[10])     \n",
    "            # print(row[10])\n",
    "\n",
    "            # 각 줄의 태그를 tagList에 넣는다.\n",
    "            skillsList += skills"
   ]
  },
  {
   "cell_type": "code",
   "execution_count": null,
   "metadata": {},
   "outputs": [],
   "source": []
  },
  {
   "attachments": {},
   "cell_type": "markdown",
   "metadata": {},
   "source": [
    "### Qualifications"
   ]
  },
  {
   "cell_type": "code",
   "execution_count": 92,
   "metadata": {},
   "outputs": [
    {
     "name": "stdout",
     "output_type": "stream",
     "text": [
      "qualifications\n",
      "['• 1년이상 Java 경력', '• Spring Boot 경험자']\n",
      "['• DBA 경력 5년 이상이신 분', '• 대용량 DBMS 운영 경험하신 분', '• Public Cloud (AWS) 환경에 대한 기본적인 이해 및 경험이 있는 분', '• 쿼리 튜닝, 분석 가능하신 분', '• MongoDB 운영, 트러블슈팅 경험하신 분', '• 인프라 환경의 자동화를 추구하며 동료와 적극적으로 소통할 수 있는 분', '• 더 나은 기술을 익히고 적용하는데 거리낌 없는 분', '• 문서화 및 메뉴얼 작성에 거부감이 없는 분']\n",
      "['■ 이런 분과 함께 하고 싶습니다.', '', '• 학력 - 학사 이상 / 컴퓨터공학 관련 전공자 우대', '', '• 경력 - 해당 직무 수행 경력 5년 이상', '', '• 전문지식', '', '-  K8S에서 동작하는 애플리케이션의 CI/CD 구축 및 운영 경험', '', '-  AWS Public Cloud 환경에서 개발 및 운영 경험', '', '-  Docker, Kubernetes 기반 서비스 경험', '', '-  네트워크 및 보안에 대한 이해', '', '-  Java 혹은 Kotlin 기반의 Back-End 개발 경험', '', '-  Spring Framework에 대한 이해 및 개발 경험 (SpringBoot, JPA 개발)', '', '-  RESTful API 설계 및 구현 경험', '', '-  RDBMS 및 NoSQL 개발 경험', '', '-  MSA 환경에서 서비스 개발/운영 경험', '', '- 다양한 Lib 및 Open Source 활용경험 ', '', '- 논리적 사고와 문제 분석 및 해결 능력', '', '- 다양한 분야의 사람들과 협업, 커뮤니케이션 능력']\n",
      "['• 하드웨어를 제어하는데 관심이 많으신 분', '• 기술 표준 R&D에 관심이 많으신 분']\n",
      "['- Spring boot 서버 개발 경험자', '- Rest API 설계 가능자', '- Web security를 잘 이해하고 있는 분', '- 서버, 스토리지, 백업, 로드밸런싱 등 Cloud infraware에 대해 ', '  잘 이해하고 있는 분', '- RDS에 대한 지식이 있고 활용 가능한 분']\n",
      "['• 컴퓨터 공학 또는 관련 분야의 학사 학위 (또는 동등한 실무 경험)를 보유하신 분', '• React.js 및 관련 프론트엔드 기술에 대한 3년 이상의 실무 경험을 보유하신 분', '• 웹 개발에 필요한 JavaScript, HTML, CSS에 대한 깊은 이해와 능숙한 사용 경험을 보유하신 분', '• RESTful API와의 상호작용 경험과 가상자산 거래 관련 API에 대한 높은 이해도를 보유하신 분', '• 사용자 경험을 고려한 반응형 웹 디자인 구현 경험을 보유하신 분', '• 버전 관리 도구(Git 등) 사용 능력을 보유하신 분', '• 팀에서의 협업과 커뮤니케이션 능력을 보유하신 분']\n",
      "['•지리정보체계(GIS), 정밀도로지도 분야에 대한 숙련', '•지도 데이터 및 공간좌표에 대한 수학적 이해', '•컴퓨터 공학, 소프트웨어 공학 및 최적화 알고리즘에 대한 이해', '•소프트웨어 안전성에 대한 이해 및 개발능력', '•관련 전공 석사 이상']\n",
      "{'구매 관리', 'MySQL', 'GPS', 'SONET', '분석 능력', 'ORM', 'NodeJS', '성능 측정', '방화벽', 'PMO', 'DBT', '프로젝트 납품', '모바일 장치', 'SSAS', 'RTP', '네비게이션 시스템', '프로토 타이핑', 'PaaS', 'ASP', '윈도우 프로그래밍', 'GruntJS', '데이터 시각화', '모델링 및 시뮬레이션', '클라우드 보안', 'Java', 'POS', 'Scrum', 'Xamarin', 'Health Information Technology', 'Windows 원격 데스크톱', '정보 보안', 'FMEA', 'SD', 'UX 디자인', 'CRM', '개발', 'MATLAB', 'EMC 규정 준수', 'GIS', '프로세스 개선', 'OLAP', 'Juniper', 'NoSQL', 'SAS', 'OpenCL', 'Unreal Engine', 'EMC Storage', 'NFC', '모터 제어', 'Apple Software', 'AIX', '최적화', '연구 및 개발', 'CCNA', 'Kubernetes', 'RFP', '딥 러닝', 'LiDAR', 'XAML', 'PHPUnit', 'SAP HR', '앱 서버', '임베디드 소프트웨어', '알고리즘 설계', 'CRM 통합', 'JSP', 'React', 'Amazon Web Service', 'Mobile App Design', 'VMware Infrastructure', 'SMS', 'iOS', 'SAP 구현', 'KYC', 'Diagnostic', 'SDLC', 'Github', 'OpenCV', 'HTA', 'Multi Tasking', '정보관리', 'Palantir', '신호 처리', 'DHCP', 'Applicant Tracking System(ATS)', 'Typeform', 'Confluence', 'DOM', '웹사이트', 'SPSS', 'Stata', 'SAP FICO', 'iOS 디자인', 'WPF', '3D 그래픽', 'Adobe Illustrator', 'VR', 'Apache 2', 'Flask', 'WebGL', 'ERP 소프트웨어', 'Bootstrap', 'SPI', 'MS 오피스', 'Powershell', 'RESTful Architecture', '데이터 수집', 'TypeScript', 'Embedded C', '서버 관리', '기술 개발', 'UX', '교육 기술', '그래픽 디자인', '회로 설계', 'RabbitMQ', '알고리즘 개발', 'Next.js', 'RHEL', '인터페이스', 'Go', 'Redux', 'Splunk', '차량', 'CAM', '소켓', '리팩토링', 'FPGA', '병렬 프로그래밍', 'Rhino 3D', 'LIS', '전력전자학', 'TCP', 'CSS3', '구글 API', '3D', '학술 출판', '보안 교육', 'Android', '복제', '라이브러리 관리', '보안 정책', '솔루션 아키텍처', 'CSS', 'BitBucket', '펌웨어', '서비스 디자인', 'WinForm', '분석 개발', 'Mac', 'C++', '고객 관계', '수학', 'WBS', '상품 기획', 'EC2', 'NumPy', 'STP', 'LTE', '전자 공학', '데이터베이스 설계', '리눅스 시스템 관리', 'PKI', 'Apache', 'MDX', '기술 교육', 'QC', 'ObjectiveC', 'SOLR', 'IoT', 'Laravel', 'Microsoft Server', '로봇', 'CentOS', '애자일 방법론', '클라우드 응용 프로그램', 'Perl', 'Flow', 'Sketch', 'WPF 개발', 'DLP', 'iOS 개발', 'Bash', 'HP', 'OOP', 'Maven', 'JavaScript', 'Redis', '네트워크 설계', 'Svelte', 'Tableau', 'ETL 도구', 'FPGA 프로토 타이핑', '도메인 관리', '브랜딩', 'IVR', 'Spring Boot', 'PMP', 'Angular', '품질 보증', '예측 모델링', 'Coroutine', 'Metal', 'GCC', 'ES6', '샘플 관리', 'Adobe Photoshop', '인공 지능', 'ASIC', '생산 계획', 'Visual Studio', '운영 관리', 'Pytorch', 'Axure', 'Zemax', 'Shell', 'Shader', 'Tomcat', 'CISSP', 'CRM 데이터베이스', 'Google Maps', 'AAC', '시스템 관리', 'Django', 'MSSQL', '안드로이드 SDK', 'ML', 'VBA', 'CodeIgniter', 'Clustering', 'ElasticSearch', 'GraphQL', 'Telerik', 'TDD', '비즈니스 분석', 'Children', 'RTL 코딩', 'Spring Framework', 'Retrofit2', 'Framer', 'Qt', '.NET', 'MFC', 'OpenGL', 'BI', 'AutoCAD', '서비스 프로세스', 'ADC', 'HMI', 'Jenkins', 'SSH', 'SciPy', 'Data Analysis', 'Ethereum', 'Notion', 'WebSphere MQ', 'CAN', '기술 관리', 'Redmine', 'Hadoop', 'AngularJS', 'MVC', '카산드라', '무선 통신', 'Spine', 'GIS 시스템', 'Firebase', 'LIN', 'CSS 자바 스크립트', 'RTL 설계', '취약점 스캐닝', '재고 관리', '유지보수', 'Solidworks', 'Windows 서비스', 'JIRA', 'Ruby on Rails', 'Delphi', 'DevOps', '테스트 실행', 'Visual Basic', 'Debian', '보안 운영', '보안 금융', 'Slack', '학술 연구', 'PADS Layout', 'Google Cloud Platform', 'ETL', 'DWDM', '백신', 'GCPs', 'STL', 'MongoDB', 'IIS', '리눅스 서버', 'Asana', 'Microchip PIC', '공공 부문', 'Solaris ', 'Windows 8', '클라우드 스토리지', '통신', 'IPS', '고객 중심', 'JsonAPI', 'Unity3D', '관리', 'PHP', 'QlikView', 'Android Studio', 'Struts', 'ASP .NET', 'Office 365', 'Blockchain', 'API 개발', 'UNIX', '프레젠테이션', 'Google Analytics', 'Google Apps', '서버 아키텍처', '고객 지원', '시스템 통합', 'Linux', '데이터베이스 관리', '데이터베이스', 'Ruby', 'SketchUp', 'jQuery UI', 'ITIL', 'Flash', 'GUI', '서버', 'Git', '네트워크 개발', '.NET Core', 'WebRTC', '컴퓨터 공학', 'CakePHP', '아날로그 회로 설계', '보안 감사', '제안서 작성', '의료 영상', '스토리지 솔루션', 'OpenMP', 'ISO', 'EMR', 'Datastage', 'IntelliJ IDEA', 'Kernel Programming', 'SMTP', 'VDI', '회로 분석', 'Verilog', 'NAS', 'Web Socket', '암호화', 'C', 'IT 관리', '제품 개발', 'Oracle Database', 'SAP MM', '웹 디자인', 'PostgreSQL', 'REST', '프로토콜 개발', 'Google Webmaster Tools', 'CUDA', '웹 개발', 'PCB 레이아웃 설계', 'SQL 서버', 'Entity Framework', 'SSRS', '통계 모델링', 'Perforce', 'Swift', '자동차', 'Raspberry Pi', 'Mixpanel', 'JUnit', 'Servlets', 'ROS', '애자일 프로젝트 관리', '운영체제', 'Communication', 'PLC', '영상', '기술 문서', 'JSTL', 'Asterisk', '3G', '의료 기기', '분석 문제 해결', 'C / C++', 'UDP', '요구 사항 분석', '3D 모델링', 'VM웨어', 'Elixir', 'Adobe XD', 'OSS', '네트워크 관리', '데이터 구조', 'Figma', 'Flutter', 'DB2', 'Akka', 'DNS', 'Amplitude', 'DICOM', 'GIS 응용 프로그램', 'Windows Embedded', 'Excel', 'AUTOSAR', 'EAI', '데이터 분석', 'SAP 포털', 'iBatis', '모바일 게임', '기계 학습 (Machine Learning)', 'VHDL', 'LESS', '시스템 구축', 'WordPress', 'HTML', 'SNMP', '분석능력', 'AR', 'UX 기획', 'PowerBuilder', '검증', '네트워크 엔지니어링', 'SVN', 'Rx', '프로그램 관리', 'Storage', 'TestNG', 'Oracle', 'SSL', 'Oracle SQL', '공차 분석', 'SQLite', '영어 실력', 'MXNET', '전원 엔지니어링', 'Rust', 'I2C', 'FastAPI', '하드웨어', 'BGP', 'CISA', 'SAP BI', '가상화', 'ANSI C', 'VoIP', '네트워크 인프라', '리눅스 커널', 'Sybase', 'Processing', 'RS232', 'SEO', '분석 서비스', '데이터 마트', 'Arduino', 'SQL', 'Shell Scripting', 'Altium', 'API', 'HTTP', 'SASS', 'IT 운영', '프로젝트 관리', 'Nginx', 'SAP ERP', '인버터', 'Xilinx', '임베디드 시스템', 'SAP SD', '데이터 입력', '보안', 'Wordpress Design', 'GLSL', 'UI 디자인', '시스템 구현', '검색 엔진', 'SoC', 'LINQ', 'Kotlin', 'Google Tag Manager', 'User Experience', 'ABAP', 'VPN', 'MMO', 'VueJS', '솔루션 개발', '샘플 준비', 'TCL', '보안 관리', 'Agile', 'Scala', '클라이언트 개발', 'POP 디스플레이', '클라우드 컴퓨팅', '품질 관리', 'RPG', 'NLP', 'AJAX', 'AWS', 'Revit', 'Hilt', 'Azure', 'JSON', '안드로이드 개발', 'Neo4j', '의료 장비', '하드웨어 테스트', 'SAP', 'User Stories', '소프트웨어 개발', '하드웨어 설계', 'SAP FI', 'PADS', 'Xen', 'CCIE', '교육 관리', '서비스 관리', '의료 산업', 'RDBMS', '자연 언어 처리', '모바일 기술', 'Cocoa Touch', 'Product Management ', 'GIMP', 'JPA', 'Spark', 'Apache Spark', '일본어', 'Simulink', 'Python', 'React.js', 'R', '스토리지 영역 네트워크', 'GPU', 'PCB 디자인', 'XHTML', 'B2C', '소프트웨어 검증', 'React Native', 'EDA', 'JSP 개발', 'Cisco', '모바일 게임 개발', '프론트엔드 개발자', 'B2B', 'SCM', 'SSIS', 'GitLab', '네트워크 프로그래밍', 'FTP', 'MIMO', 'Apache Kafka', 'Heroku', 'Windows 서버', 'QA 엔지니어링', 'Trello', 'SAP BW', '네트워크 운영', 'GCP', 'RF', 'Hyperledger', 'HTML5', 'PACS', '설계', 'debugging', 'ERP 구현', '로봇 프로그래밍', '강의', 'EnCase', 'Ubuntu', '모뎀', '레이더', 'Restful API', 'XP', 'Tensorflow', 'C#', 'RESTful WebServices', '카메라', '모델링', 'CTI', '네트워크 보안', 'Power BI', 'Nest.js', 'CCNP', 'XML', 'Gradle', 'MVVM', 'Active Directory', 'Golang', 'Nexacro', 'Oracle RAC', '컴퓨터 비전', 'jQuery', '윈도우 모바일', 'SVG', 'Visual Studio Code', '네트워크 통신', 'Eclipse', '컴파일러', 'RTOS', 'OFDM', 'RAID', 'CAD', 'CMS', 'RTL 검증', '프로젝트 실행', '금융', '회로', 'VB .NET', '자산 관리', 'OTN', '빅 데이터', 'Docker', 'MES', 'Zeplin', 'DART for Publishers', 'Spa', 'DSP', 'CRM 소프트웨어', 'Amazon Redshift', 'Vue.JS', 'OpenStack', '머신 비전', 'ISR', 'HCI', '마이크로프로세서', '백엔드 개발', 'SIP', 'Adobe', 'IP', 'Node.js', 'OAuth', 'Embedded Linux', '반도체', '자동차 전자', 'DirectX', 'DSL', '데이터 통합', '인프라', 'Audit Command Language (ACL)', '제어 시스템 설계', '위성 통신', 'Scikit-Learn', 'ExpressJS', 'SaaS', '전자정부프레임워크', 'Citrix', 'TeamCity', 'ORCAD', 'Xcode'}\n",
      "29385\n",
      "659\n"
     ]
    }
   ],
   "source": [
    "import re\n",
    "\n",
    "with open(\"../data/crawled_data_combined_2000.csv\", encoding=\"utf-8\") as f:\n",
    "    reader = csv.reader(f)\n",
    "    # 태그 하나씩 쪼개서 넣을 리스트 (set으로 중복 제거 전)\n",
    "    qualiList = []\n",
    "    count = 1\n",
    "    # csv 파일 리더로, 한 row씩 읽기\n",
    "    for row in reader:\n",
    "        print(row[7])\n",
    "\n",
    "\n",
    "        if count == 8:\n",
    "            break\n",
    "        # row list의 10번째 element인 tags string을 ''안 단어들로 나눠서 list만들기\n",
    "        # quali = re.findall(r\"'(.*?)'\", row[10])     \n",
    "        # print(row[10])\n",
    "\n",
    "        # 각 줄의 태그를 tagList에 넣는다.\n",
    "        # qualiList += quali\n",
    "\n",
    "\n",
    "        count += 1\n",
    "\n",
    "        \n",
    "    \n",
    "    skillsSet = set(skillsList)\n",
    "    print(skillsSet)\n",
    "    print(len(skillsList))\n",
    "    print(len(skillsSet))"
   ]
  }
 ],
 "metadata": {
  "kernelspec": {
   "display_name": "Python 3",
   "language": "python",
   "name": "python3"
  },
  "language_info": {
   "codemirror_mode": {
    "name": "ipython",
    "version": 3
   },
   "file_extension": ".py",
   "mimetype": "text/x-python",
   "name": "python",
   "nbconvert_exporter": "python",
   "pygments_lexer": "ipython3",
   "version": "3.10.9"
  },
  "orig_nbformat": 4
 },
 "nbformat": 4,
 "nbformat_minor": 2
}
