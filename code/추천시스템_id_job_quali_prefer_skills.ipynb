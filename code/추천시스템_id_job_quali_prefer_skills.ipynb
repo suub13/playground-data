{
 "cells": [
  {
   "attachments": {},
   "cell_type": "markdown",
   "metadata": {},
   "source": [
    "# id, job, qualification, preferred, skills 추천 시스템"
   ]
  },
  {
   "attachments": {},
   "cell_type": "markdown",
   "metadata": {},
   "source": [
    "#### skills의 데이터로 qualification, preferred에 있는 skills 데이터 확인 후, filtering, 그 후 가중치 조절, "
   ]
  },
  {
   "cell_type": "code",
   "execution_count": 1,
   "metadata": {},
   "outputs": [],
   "source": [
    "import csv\n",
    "import re"
   ]
  },
  {
   "attachments": {},
   "cell_type": "markdown",
   "metadata": {},
   "source": [
    "## 필요 함수 - getSkillsSet(), getSkillsList(), ListToDict(lst), saveCSV(dict, title)"
   ]
  },
  {
   "attachments": {},
   "cell_type": "markdown",
   "metadata": {},
   "source": [
    "#### getSkillsSet() - skills 리스트 빈도 필터링 없이 다 확인"
   ]
  },
  {
   "cell_type": "code",
   "execution_count": 2,
   "metadata": {},
   "outputs": [],
   "source": [
    "# skills 데이터 다 확인\n",
    "\n",
    "def getSkillsSet():\n",
    "    with open(\"../data/crawled_data_combined.csv\", encoding=\"utf-8\") as f:\n",
    "        reader = csv.reader(f)\n",
    "\n",
    "        # 태그 하나씩 쪼개서 넣을 리스트 (set으로 중복 제거 전)\n",
    "        skillList = []\n",
    "\n",
    "        # csv 파일 리더로, 한 row씩 읽기\n",
    "        for row in reader:\n",
    "\n",
    "            # row list의 10번째 element인 tags string을 ''안 단어들로 나눠서 list만들기\n",
    "            skills = re.findall(r\"'(.*?)'\", row[10])     \n",
    "            skills_upper = [word.upper() for word in skills]\n",
    "\n",
    "            # 각 줄의 태그를 tagList에 넣는다.\n",
    "            skillList += skills_upper\n",
    "            # print(skills)\n",
    "\n",
    "        skillsSet = set(skillList)\n",
    "        \n",
    "        return skillsSet"
   ]
  },
  {
   "attachments": {},
   "cell_type": "markdown",
   "metadata": {},
   "source": [
    "#### getSkillsList() - 중복제거 없이 skill List 확인 함수 - 추후 해당 skill 빈도 확인을 위해 필요"
   ]
  },
  {
   "cell_type": "code",
   "execution_count": 3,
   "metadata": {},
   "outputs": [],
   "source": [
    "# skills 데이터 다 확인\n",
    "\n",
    "def getSkillsList():\n",
    "    \n",
    "    with open(\"../data/crawled_data_combined.csv\", encoding=\"utf-8\") as f:\n",
    "        reader = csv.reader(f)\n",
    "\n",
    "        # 태그 하나씩 쪼개서 넣을 리스트 (set으로 중복 제거 전)\n",
    "        skillList = []\n",
    "\n",
    "        # csv 파일 리더로, 한 row씩 읽기\n",
    "        for row in reader:\n",
    "\n",
    "            # row list의 10번째 element인 tags string을 ''안 단어들로 나눠서 list만들기\n",
    "            skills = re.findall(r\"'(.*?)'\", row[10])     \n",
    "            skills_upper = [word.upper() for word in skills]\n",
    "\n",
    "            # 각 줄의 태그를 tagList에 넣는다.\n",
    "            skillList += skills_upper\n",
    "        \n",
    "        return skillList"
   ]
  },
  {
   "cell_type": "code",
   "execution_count": 4,
   "metadata": {},
   "outputs": [],
   "source": [
    "# skillsSet = getSkillsSet()\n",
    "# skillsList = list(skillsSet)\n",
    "# # skillsList"
   ]
  },
  {
   "attachments": {},
   "cell_type": "markdown",
   "metadata": {},
   "source": [
    "####  ListToDict(lst) - skills List로 딕셔너리 만들기"
   ]
  },
  {
   "cell_type": "code",
   "execution_count": 5,
   "metadata": {},
   "outputs": [],
   "source": [
    "def ListToDict(lst):\n",
    "    toDict = dict()\n",
    "\n",
    "    for item in lst:\n",
    "        toDict[item.upper()] = 0\n",
    "    \n",
    "    return toDict\n",
    "    \n"
   ]
  },
  {
   "attachments": {},
   "cell_type": "markdown",
   "metadata": {},
   "source": [
    "#### saveCSV(dict, title) - dictionary key, value를 csv 파일로 저장하는 함수"
   ]
  },
  {
   "cell_type": "code",
   "execution_count": 6,
   "metadata": {},
   "outputs": [],
   "source": [
    "import csv\n",
    "\n",
    "def saveCSV(dict, title):\n",
    "    # Specify the CSV file path\n",
    "\n",
    "    # Open the CSV file in write mode\n",
    "    with open(title, \"w\", newline=\"\") as file:\n",
    "        writer = csv.writer(file)\n",
    "\n",
    "        # Write the header row with column names\n",
    "        writer.writerow([\"Key\", \"Value\"])\n",
    "\n",
    "        # Write each key-value pair as a row in the CSV file\n",
    "        for key, value in dict.items():\n",
    "            writer.writerow([key, value])\n",
    "\n",
    "    print(\"Dictionary keys and values saved to CSV file successfully.\")"
   ]
  },
  {
   "attachments": {},
   "cell_type": "markdown",
   "metadata": {},
   "source": [
    "#### addcount(set,lst) - 주어진 set에 있는 단어를 list에서 찾아서 해당 카운트 만큼 value값을 증가시킨 후 set return"
   ]
  },
  {
   "cell_type": "code",
   "execution_count": 13,
   "metadata": {},
   "outputs": [],
   "source": [
    "def addcount(dict,lst):\n",
    "    cnt = 1\n",
    "    for i in dict:\n",
    "        # print(i, lst.count(i))\n",
    "        dict[i] = dict[i] + lst.count(i)\n",
    "        cnt += 1\n",
    "    # skills_filter = skills_filter.remove('백엔드 개발', 'REST')\n",
    "    # print(cnt)\n",
    "    return dict"
   ]
  },
  {
   "attachments": {},
   "cell_type": "markdown",
   "metadata": {},
   "source": [
    "## string값을 단어로 쪼개고, 필요없는 데이터 삭제 후, skill dict에 있는 단어 개수 확인 - qualification, preffered"
   ]
  },
  {
   "attachments": {},
   "cell_type": "markdown",
   "metadata": {},
   "source": [
    "#### 필요 라이브러리 import"
   ]
  },
  {
   "cell_type": "code",
   "execution_count": 35,
   "metadata": {},
   "outputs": [],
   "source": [
    "comSet = getSkillsSet()\n",
    "comList = list(comSet)\n",
    "comDict = ListToDict(comList)"
   ]
  },
  {
   "cell_type": "code",
   "execution_count": 6,
   "metadata": {},
   "outputs": [
    {
     "name": "stdout",
     "output_type": "stream",
     "text": [
      "Requirement already satisfied: konlpy in c:\\users\\playdata\\appdata\\local\\programs\\python\\python310\\lib\\site-packages (0.6.0)\n",
      "Requirement already satisfied: JPype1>=0.7.0 in c:\\users\\playdata\\appdata\\local\\programs\\python\\python310\\lib\\site-packages (from konlpy) (1.4.1)\n",
      "Requirement already satisfied: lxml>=4.1.0 in c:\\users\\playdata\\appdata\\local\\programs\\python\\python310\\lib\\site-packages (from konlpy) (4.9.2)\n",
      "Requirement already satisfied: numpy>=1.6 in c:\\users\\playdata\\appdata\\local\\programs\\python\\python310\\lib\\site-packages (from konlpy) (1.24.2)\n",
      "Requirement already satisfied: packaging in c:\\users\\playdata\\appdata\\local\\programs\\python\\python310\\lib\\site-packages (from JPype1>=0.7.0->konlpy) (23.0)\n"
     ]
    }
   ],
   "source": [
    "!pip install konlpy"
   ]
  },
  {
   "attachments": {},
   "cell_type": "markdown",
   "metadata": {},
   "source": [
    "#### qualification"
   ]
  },
  {
   "cell_type": "code",
   "execution_count": 36,
   "metadata": {},
   "outputs": [],
   "source": [
    "from konlpy.tag import Komoran\n",
    "import re\n",
    "from tqdm import tqdm\n",
    "import pandas as pd\n",
    "import csv\n",
    "\n",
    "def qualification():\n",
    "    skillDict = comDict.copy()\n",
    "\n",
    "    with open(\"../data/crawled_data_combined.csv\", 'r', encoding=\"utf-8\") as f:\n",
    "        reader = csv.reader(f)\n",
    "        data = list(reader)\n",
    "        count = 1\n",
    "        for row in tqdm(data[1:]):\n",
    "            data = row[7].upper()\n",
    "\n",
    "            # remove symbols\n",
    "            data = re.sub(r'[^\\w\\s]', '', data)\n",
    "            komoran = Komoran()\n",
    "\n",
    "            # split text into morphemes\n",
    "            morphemes = komoran.morphs(data)\n",
    "            # words = komoran.morphs(data)\n",
    "\n",
    "            # Filter out auxiliary words\n",
    "            words = [word for word in morphemes if not komoran.pos(word)[0][1].startswith('EF')]\n",
    "\n",
    "            for skill in skillDict.keys():\n",
    "                \n",
    "                if skill in words:\n",
    "                    skillDict[skill] = skillDict[skill] + 1\n",
    "\n",
    "            if count % 500 == 0:\n",
    "                print(skillDict)\n",
    "            count += 1\n",
    "    saveCSV(skillDict, \"qual_dict.csv\")\n",
    "    return skillDict\n",
    "            \n",
    "\n",
    "# qualifications = 7, preferred = 8, skills = 10"
   ]
  },
  {
   "cell_type": "code",
   "execution_count": 37,
   "metadata": {},
   "outputs": [
    {
     "name": "stderr",
     "output_type": "stream",
     "text": [
      "  9%|▉         | 500/5451 [12:53<2:01:35,  1.47s/it]"
     ]
    },
    {
     "name": "stdout",
     "output_type": "stream",
     "text": [
      "{'MAC': 0, 'OOP': 7, 'JQUERY': 13, 'VISUAL STUDIO CODE': 0, '3D 모델링': 0, 'DEBUGGING': 0, 'SAP BW': 0, 'OFDM': 0, '강의': 1, 'AAC': 1, 'C++': 0, 'WBS': 0, 'CODEIGNITER': 0, 'TYPEFORM': 0, 'SCIKIT-LEARN': 0, '데이터 마트': 0, '안드로이드 SDK': 0, '금융': 4, 'UNIX': 2, 'GIS': 1, '데이터베이스 설계': 4, '교육 기술': 0, 'RDBMS': 29, 'JIRA': 16, 'ERP 구현': 0, '솔루션 개발': 0, '딥 러닝': 0, '리팩토링': 1, '마이크로프로세서': 0, '레이더': 1, 'GPU': 1, 'SAP FICO': 0, 'ABAP': 0, 'ROS': 2, 'KOTLIN': 19, '클라우드 컴퓨팅': 3, 'LARAVEL': 3, '애자일 방법론': 0, 'NOTION': 4, '개발': 306, 'SCRUM': 0, '샘플 관리': 0, 'DB2': 0, 'REDMINE': 1, 'GIS 응용 프로그램': 0, 'POS': 0, '시스템 구축': 0, 'JSONAPI': 0, '모바일 게임': 0, 'QT': 2, 'RTL 검증': 0, '안드로이드 개발': 0, '서버 관리': 0, '품질 관리': 0, '영어 실력': 0, 'B2C': 2, 'EXPRESSJS': 1, 'OFFICE 365': 0, 'AR': 0, 'JQUERY UI': 0, 'HP': 0, 'VOIP': 0, 'OTN': 0, 'NODEJS': 31, 'GPS': 1, '전력전자학': 0, '라이브러리 관리': 0, '로봇': 2, 'XML': 0, 'GITLAB': 3, 'CCIE': 0, 'TESTNG': 0, '설계': 78, 'FRAMER': 0, 'SQL': 27, 'GOOGLE TAG MANAGER': 0, 'STATA': 0, 'SMS': 0, 'RAID': 0, 'AKKA': 0, 'SNMP': 0, '제안서 작성': 0, 'PROCESSING': 2, 'JAVASCRIPT': 65, 'SPRING FRAMEWORK': 0, 'KUBERNETES': 12, 'ITIL': 1, 'PACS': 0, '하드웨어': 2, 'SAP SD': 0, 'WEBRTC': 0, 'STRUTS': 0, 'SLACK': 9, '데이터베이스 관리': 0, 'RTL 설계': 0, 'SD': 0, 'PYTORCH': 11, '하드웨어 테스트': 0, '데이터 입력': 0, 'INTELLIJ IDEA': 0, 'DIRECTX': 1, 'WINDOWS 원격 데스크톱': 0, '네트워크 관리': 0, 'GUI': 0, 'ORM': 6, '시스템 구현': 0, 'APACHE 2': 0, '보안 운영': 0, 'SAP': 1, 'STORAGE': 1, '전자정부프레임워크': 0, '클라우드 응용 프로그램': 0, 'ETHEREUM': 1, '웹 디자인': 1, 'SONET': 0, 'CSS3': 0, 'HYPERLEDGER': 0, '위성 통신': 0, 'SAP 구현': 0, '모델링': 8, 'HTA': 0, 'AIX': 0, 'RASPBERRY PI': 0, 'GOOGLE CLOUD PLATFORM': 0, 'LIS': 0, 'EMBEDDED LINUX': 0, 'FPGA 프로토 타이핑': 0, 'MIXPANEL': 0, '리눅스 서버': 0, 'TCL': 0, 'RUBY': 2, 'COCOA TOUCH': 0, '관리': 53, '연구 및 개발': 0, '자동차': 1, '네트워크 보안': 1, '상품 기획': 0, 'RESTFUL API': 0, '클라이언트 개발': 0, 'FMEA': 0, '소프트웨어 검증': 0, 'WPF 개발': 0, 'FTP': 0, '윈도우 모바일': 0, '임베디드 소프트웨어': 0, 'GCC': 0, '네트워크 통신': 0, 'I2C': 0, '전자 공학': 0, 'EDA': 1, 'SOLIDWORKS': 0, 'IOT': 1, 'AGILE': 2, 'SIMULINK': 0, 'NGINX': 1, '서비스 디자인': 0, 'CSS': 53, 'ORACLE SQL': 0, 'JUNIPER': 0, 'VR': 0, 'ENCASE': 0, 'APACHE KAFKA': 0, 'OPENSTACK': 0, 'CAD': 0, 'DEVOPS': 2, 'MONGODB': 8, 'ANDROID STUDIO': 0, 'XEN': 0, '백신': 1, 'IPS': 1, '소켓': 2, 'UX 디자인': 0, 'RTOS': 1, 'VERILOG': 1, 'OPENMP': 0, '기계 학습 (MACHINE LEARNING)': 0, 'DATASTAGE': 0, 'ORCAD': 1, 'PCB 디자인': 0, 'UI 디자인': 0, 'MIMO': 0, 'DNS': 1, '솔루션 아키텍처': 0, 'R': 6, '데이터 수집': 0, 'GITHUB': 17, '알고리즘 개발': 0, '데이터 시각화': 0, '카메라': 3, 'OPENCV': 5, '윈도우 프로그래밍': 0, 'GRADLE': 0, 'WEBSPHERE MQ': 0, 'HTML5': 12, 'MVVM': 5, '모터 제어': 0, 'UNREAL ENGINE': 0, 'CRM': 1, 'DJANGO': 12, 'RX': 1, 'TRELLO': 1, 'GOOGLE APPS': 0, 'ADOBE': 0, 'RTP': 0, 'MS 오피스': 0, 'SSAS': 0, '통계 모델링': 0, '네트워크 인프라': 0, '모뎀': 0, 'REDIS': 8, 'NEXACRO': 0, '프로세스 개선': 0, 'CUDA': 1, '데이터 분석': 0, '전원 엔지니어링': 0, '비즈니스 분석': 0, 'C': 34, '.NET': 0, 'JSON': 6, 'CAN': 2, '리눅스 시스템 관리': 0, 'MAVEN': 0, 'ANGULAR': 9, 'QA 엔지니어링': 0, 'ANSI C': 0, 'SERVLETS': 0, 'VPN': 1, 'PRODUCT MANAGEMENT ': 0, 'CAKEPHP': 0, '보안 감사': 0, 'RS232': 0, 'ELASTICSEARCH': 3, 'GLSL': 0, '테스트 실행': 0, 'MMO': 0, 'ALTIUM': 1, '영상': 7, 'GOOGLE ANALYTICS': 0, '프로젝트 납품': 0, 'LTE': 0, '웹사이트': 0, 'REACT NATIVE': 0, '네비게이션 시스템': 0, 'ASANA': 0, '생산 계획': 0, 'ERP 소프트웨어': 0, '제품 개발': 6, 'EMBEDDED C': 0, '스토리지 영역 네트워크': 0, 'ECLIPSE': 0, 'IOS 디자인': 0, 'SWIFT': 10, 'TEAMCITY': 0, '스토리지 솔루션': 0, 'NEST.JS': 0, 'VUE.JS': 0, 'ADOBE PHOTOSHOP': 0, '가상화': 1, '서비스 프로세스': 0, '기술 관리': 0, 'DLP': 1, 'LESS': 0, 'ORACLE': 7, 'EAI': 0, 'CAM': 0, '네트워크 설계': 0, '프로젝트 관리': 3, '자동차 전자': 0, 'FPGA': 1, 'EMR': 0, 'AMAZON REDSHIFT': 0, 'JSP': 7, 'SOLARIS ': 0, '학술 연구': 0, '펌웨어': 3, 'DELPHI': 1, 'PYTHON': 64, 'USER EXPERIENCE': 0, 'WINDOWS 서비스': 0, '의료 기기': 0, 'IOS': 20, 'SSRS': 0, 'NOSQL': 22, 'CSS 자바 스크립트': 0, 'RHINO 3D': 0, 'JUNIT': 0, 'METAL': 0, 'ISO': 1, '요구 사항 분석': 0, '회로': 0, '수학': 5, 'NUMPY': 1, 'VDI': 0, '모바일 게임 개발': 0, 'CENTOS': 1, 'SAAS': 4, 'CHILDREN': 0, 'OPENGL': 1, '아날로그 회로 설계': 0, 'APACHE SPARK': 0, '운영 관리': 0, 'VISUAL STUDIO': 0, 'AMAZON WEB SERVICE': 0, 'ISR': 0, 'RHEL': 0, 'STL': 0, '정보관리': 0, 'NFC': 0, 'SVELTE': 0, '인터페이스': 3, '네트워크 엔지니어링': 0, 'API': 93, 'MOBILE APP DESIGN': 0, 'SEO': 1, '암호화': 0, 'CRM 소프트웨어': 0, 'TYPESCRIPT': 40, '무선 통신': 0, '보안 금융': 0, 'UX 기획': 0, 'RESTFUL ARCHITECTURE': 0, 'GRUNTJS': 0, 'MDX': 0, 'PHPUNIT': 0, '공공 부문': 0, 'OBJECTIVEC': 3, 'IOS 개발': 0, '컴파일러': 1, 'BASH': 2, 'HTTP': 11, 'REVIT': 0, 'GIT': 66, 'XP': 0, 'XAML': 0, '시스템 통합': 0, 'GCP': 12, 'ASIC': 0, '앱 서버': 0, '통신': 14, 'VM웨어': 0, 'HTML': 39, 'HADOOP': 3, 'SVN': 3, '빅 데이터': 1, 'BITBUCKET': 0, '구글 API': 0, '머신 비전': 0, 'SHADER': 0, 'LINUX': 24, 'RUBY ON RAILS': 0, 'CMS': 0, 'MICROSOFT SERVER': 0, 'AMPLITUDE': 1, 'MULTI TASKING': 0, 'BGP': 0, '3D': 3, '데이터 구조': 0, 'B2B': 1, '자산 관리': 0, 'COMMUNICATION': 3, 'IT 관리': 0, 'REST': 28, 'CRM 데이터베이스': 0, 'NLP': 0, '프로토 타이핑': 0, '복제': 0, '분석 능력': 0, '임베디드 시스템': 2, 'LINQ': 0, 'IIS': 0, '반도체': 1, 'UNITY3D': 0, 'REACT.JS': 0, 'GIS 시스템': 0, 'FLOW': 3, 'POSTGRESQL': 11, 'VISUAL BASIC': 0, 'MES': 0, 'CLUSTERING': 3, 'FLASK': 4, 'SAP BI': 0, 'FIGMA': 0, 'SMTP': 0, 'HCI': 0, 'USER STORIES': 0, 'SPSS': 0, '병렬 프로그래밍': 0, '분석 문제 해결': 0, 'XCODE': 2, 'KYC': 0, 'AZURE': 9, 'GOLANG': 8, '도메인 관리': 0, 'RUST': 1, '품질 보증': 0, '애자일 프로젝트 관리': 0, 'BI': 1, 'PERL': 0, 'SAP 포털': 0, 'IVR': 0, 'DHCP': 0, 'PADS': 1, 'EMC STORAGE': 0, '제어 시스템 설계': 0, 'AUTOCAD': 1, '고객 중심': 0, 'ORACLE DATABASE': 0, 'UBUNTU': 0, 'SAS': 0, '학술 출판': 0, 'SQLITE': 0, '취약점 스캐닝': 0, '모바일 기술': 0, 'WINDOWS 서버': 0, 'VB .NET': 0, 'DEBIAN': 0, 'TENSORFLOW': 8, 'DBT': 0, 'TDD': 5, 'COROUTINE': 1, '분석 개발': 0, 'ASTERISK': 0, 'SOC': 0, '성능 측정': 0, '클라우드 스토리지': 0, 'CISCO': 0, 'OLAP': 1, 'SAP HR': 0, 'WEBGL': 1, 'NODE.JS': 0, 'FASTAPI': 3, 'DATA ANALYSIS': 0, '웹 개발': 11, 'ASP .NET': 0, 'JSP 개발': 0, 'STP': 0, 'REACT': 57, 'RPG': 0, '보안 관리': 0, 'ML': 5, 'MATLAB': 0, 'VBA': 0, '일본어': 0, 'NAS': 0, '검증': 3, 'HMI': 0, 'UX': 2, '의료 산업': 0, '소프트웨어 개발': 11, 'WORDPRESS': 0, 'ENTITY FRAMEWORK': 0, '데이터 통합': 0, 'VHDL': 0, 'AUDIT COMMAND LANGUAGE (ACL)': 0, 'PMP': 0, '기술 교육': 0, 'HILT': 1, '컴퓨터 비전': 3, '데이터베이스': 15, 'RF': 0, 'POWERSHELL': 1, 'JAVA': 66, 'JPA': 8, 'FLASH': 0, '리눅스 커널': 0, '알고리즘 설계': 0, 'QLIKVIEW': 0, 'WINFORM': 0, 'XILINX': 0, 'CISA': 0, '검색 엔진': 0, 'VUEJS': 13, 'QC': 0, 'SCALA': 4, 'SAP ERP': 0, 'LIDAR': 3, 'MFC': 2, 'SPLUNK': 0, 'AUTOSAR': 0, 'EXCEL': 1, 'GOOGLE WEBMASTER TOOLS': 0, '기술 문서': 0, 'BOOTSTRAP': 1, 'CCNP': 0, 'APACHE': 2, 'KERNEL PROGRAMMING': 0, 'IBATIS': 0, 'SDLC': 1, '서비스 관리': 0, 'CISSP': 0, 'RETROFIT2': 0, 'JENKINS': 3, 'RTL 코딩': 0, 'CCNA': 0, '3G': 0, 'PLC': 0, 'MSSQL': 7, '프로그램 관리': 0, 'XHTML': 0, 'SPRING BOOT': 0, 'WORDPRESS DESIGN': 0, 'IT 운영': 0, 'C / C++': 0, 'ADOBE XD': 0, 'ARDUINO': 0, 'ETL': 2, 'DSL': 1, 'GOOGLE MAPS': 0, 'BLOCKCHAIN': 0, '네트워크 개발': 0, 'FLUTTER': 10, 'SIP': 0, 'ZEMAX': 0, '재고 관리': 0, 'CONFLUENCE': 5, '기술 개발': 0, 'GO': 7, '로봇 프로그래밍': 0, 'TCP': 0, '보안 교육': 0, '분석능력': 0, 'POWERBUILDER': 0, 'OPENCL': 0, 'GIMP': 0, 'ETL 도구': 0, '공차 분석': 0, 'WPF': 0, '시스템 관리': 0, '교육 관리': 0, 'VMWARE INFRASTRUCTURE': 0, 'RABBITMQ': 0, '보안 정책': 1, '모델링 및 시뮬레이션': 0, '그래픽 디자인': 0, '최적화': 14, 'SVG': 0, 'POWER BI': 0, 'ANGULARJS': 1, 'EC2': 0, 'ES6': 0, 'MXNET': 1, 'REDUX': 10, '3D 그래픽': 0, 'CRM 통합': 0, 'IP': 1, '유지보수': 0, 'PALANTIR': 0, '프론트엔드 개발자': 0, 'SHELL SCRIPTING': 0, 'AWS': 65, 'LIN': 1, '카산드라': 0, '자연 언어 처리': 0, 'PCB 레이아웃 설계': 0, 'SKETCHUP': 0, 'DOM': 1, 'UDP': 1, 'HEROKU': 0, 'TABLEAU': 1, 'MVC': 4, '회로 설계': 0, 'DART FOR PUBLISHERS': 0, '인버터': 0, 'SAP FI': 0, '방화벽': 1, '서버 아키텍처': 0, 'NEO4J': 0, 'TELERIK': 0, 'FIREBASE': 4, 'EMC 규정 준수': 0, 'TOMCAT': 2, 'PADS LAYOUT': 0, 'WINDOWS 8': 0, 'OSS': 0, 'SPINE': 0, 'ASP': 1, 'APPLICANT TRACKING SYSTEM(ATS)': 0, 'DICOM': 0, 'C#': 0, '고객 지원': 0, 'PAAS': 0, 'HEALTH INFORMATION TECHNOLOGY': 0, 'PMO': 0, '프레젠테이션': 0, '보안': 17, '컴퓨터 공학': 16, 'GRAPHQL': 3, 'AXURE': 0, 'SAP MM': 0, 'ACTIVE DIRECTORY': 0, '인프라': 24, '의료 영상': 0, 'ADC': 0, '분석 서비스': 0, '의료 장비': 0, '서버': 35, 'SASS': 0, 'WINDOWS EMBEDDED': 0, 'RFP': 0, 'ADOBE ILLUSTRATOR': 0, '신호 처리': 0, 'API 개발': 0, '샘플 준비': 0, '인공 지능': 0, '네트워크 운영': 0, 'PHP': 12, 'SSIS': 0, '고객 관계': 0, 'DSP': 0, 'MYSQL': 29, 'DOCKER': 13, 'SCM': 0, '백엔드 개발': 0, '클라우드 보안': 0, 'CITRIX': 0, 'GCPS': 0, 'MICROCHIP PIC': 0, '브랜딩': 0, 'POP 디스플레이': 0, '정보 보안': 1, 'CTI': 0, 'PERFORCE': 0, 'NEXT.JS': 0, 'PKI': 0, 'JSTL': 1, 'SPI': 1, 'SOLR': 1, '프로젝트 실행': 0, 'ELIXIR': 0, 'SYBASE': 0, 'SSL': 0, 'AJAX': 3, 'ANDROID': 14, 'SQL 서버': 0, 'ZEPLIN': 0, 'SCIPY': 0, '구매 관리': 0, '.NET CORE': 0, 'WEB SOCKET': 0, 'SPA': 14, 'APPLE SOFTWARE': 0, 'SHELL': 2, 'DWDM': 2, '차량': 1, '하드웨어 설계': 0, '프로토콜 개발': 0, 'DIAGNOSTIC': 0, 'SPARK': 2, 'RESTFUL WEBSERVICES': 0, '회로 분석': 0, 'OAUTH': 1, 'SKETCH': 0, 'SSH': 0, '모바일 장치': 0, 'XAMARIN': 0, 'ORACLE RAC': 0, '예측 모델링': 0, '운영체제': 0, '네트워크 프로그래밍': 0}\n"
     ]
    },
    {
     "name": "stderr",
     "output_type": "stream",
     "text": [
      " 17%|█▋        | 923/5451 [24:29<1:52:48,  1.49s/it]"
     ]
    }
   ],
   "source": [
    "qualification()"
   ]
  },
  {
   "attachments": {},
   "cell_type": "markdown",
   "metadata": {},
   "source": [
    "#### preferred"
   ]
  },
  {
   "cell_type": "code",
   "execution_count": null,
   "metadata": {},
   "outputs": [],
   "source": [
    "from konlpy.tag import Komoran\n",
    "import re\n",
    "from tqdm import tqdm\n",
    "import pandas as pd\n",
    "import csv\n",
    "\n",
    "def preffered():\n",
    "    skillDict = comDict.copy()\n",
    "\n",
    "    with open(\"../data/crawled_data_combined.csv\", 'r', encoding=\"utf-8\") as f:\n",
    "        reader = csv.reader(f)\n",
    "        data = list(reader)\n",
    "        count = 1\n",
    "        for row in tqdm(data[1:]):\n",
    "            data = row[8].upper()\n",
    "\n",
    "            # remove symbols\n",
    "            data = re.sub(r'[^\\w\\s]', '', data)\n",
    "            komoran = Komoran()\n",
    "\n",
    "            # split text into morphemes\n",
    "            morphemes = komoran.morphs(data)\n",
    "            # words = komoran.morphs(data)\n",
    "\n",
    "            # Filter out auxiliary words\n",
    "            words = [word for word in morphemes if not komoran.pos(word)[0][1].startswith('EF')]\n",
    "\n",
    "            for skill in skillDict.keys():\n",
    "                \n",
    "                if skill in words:\n",
    "                    skillDict[skill] = skillDict[skill] + 1\n",
    "\n",
    "            if count % 500 == 0:\n",
    "                print(skillDict)\n",
    "            count += 1\n",
    "\n",
    "    saveCSV(skillDict, \"pref_dict.csv\")\n",
    "    return skillDict\n",
    "            \n",
    "\n",
    "# qualifications = 7, preferred = 8, skills = 10"
   ]
  },
  {
   "attachments": {},
   "cell_type": "markdown",
   "metadata": {},
   "source": [
    "#### Skills"
   ]
  },
  {
   "cell_type": "code",
   "execution_count": 16,
   "metadata": {},
   "outputs": [],
   "source": [
    "import re\n",
    "\n",
    "def skills():\n",
    "    totalList = getSkillsList()\n",
    "    skillDict = comDict.copy()\n",
    "    \n",
    "    skills_count = addcount(skillDict, totalList)\n",
    "    saveCSV(skills_count, \"skill_dict.csv\")\n",
    "    return skills_count"
   ]
  },
  {
   "cell_type": "code",
   "execution_count": null,
   "metadata": {},
   "outputs": [],
   "source": [
    "skills()"
   ]
  },
  {
   "attachments": {},
   "cell_type": "markdown",
   "metadata": {},
   "source": [
    "## qual_dict, pref_dict, skills_dict 3개의 csv파일을 통합하기"
   ]
  },
  {
   "attachments": {},
   "cell_type": "markdown",
   "metadata": {},
   "source": [
    "#### qual_dict keys, values확인"
   ]
  },
  {
   "cell_type": "code",
   "execution_count": 1,
   "metadata": {},
   "outputs": [],
   "source": [
    "import csv\n",
    "\n",
    "with open(\"qual_dict.csv\", 'r', encoding=\"utf-8\") as f:\n",
    "    reader = csv.reader(f)\n",
    "    \n",
    "    qual_keys = []\n",
    "    qual_values = []\n",
    "\n",
    "    for row in reader:\n",
    "        qual_keys.append(row[0])\n",
    "        qual_values.append(row[1])\n"
   ]
  },
  {
   "attachments": {},
   "cell_type": "markdown",
   "metadata": {},
   "source": [
    "#### pref_dict keys, values확인"
   ]
  },
  {
   "cell_type": "code",
   "execution_count": 2,
   "metadata": {},
   "outputs": [],
   "source": [
    "import csv\n",
    "\n",
    "with open(\"pref_dict.csv\", 'r', encoding=\"949\") as f:\n",
    "    reader = csv.reader(f)\n",
    "    \n",
    "    pref_keys = []\n",
    "    pref_values = []\n",
    "\n",
    "    for row in reader:\n",
    "        pref_keys.append(row[0])\n",
    "        pref_values.append(row[1])\n"
   ]
  },
  {
   "attachments": {},
   "cell_type": "markdown",
   "metadata": {},
   "source": [
    "#### skill_dict keys, values확인"
   ]
  },
  {
   "cell_type": "code",
   "execution_count": 3,
   "metadata": {},
   "outputs": [],
   "source": [
    "import csv\n",
    "\n",
    "with open(\"skill_dict.csv\", 'r', encoding=\"949\") as f:\n",
    "    reader = csv.reader(f)\n",
    "    \n",
    "    skill_keys = []\n",
    "    skill_values = []\n",
    "\n",
    "    for row in reader:\n",
    "        skill_keys.append(row[0])\n",
    "        skill_values.append(row[1])\n"
   ]
  },
  {
   "attachments": {},
   "cell_type": "markdown",
   "metadata": {},
   "source": [
    "#### Keys 중에 순서가 다른 element가 있는지 확인"
   ]
  },
  {
   "cell_type": "code",
   "execution_count": 4,
   "metadata": {},
   "outputs": [
    {
     "name": "stdout",
     "output_type": "stream",
     "text": [
      "0 .NET .NET ﻿.NET\n",
      "298 PRODUCT MANAGEMENT  PRODUCT MANAGEMENT  PRODUCT MANAGEMENT\n",
      "373 SOLARIS  SOLARIS  SOLARIS\n",
      "3\n"
     ]
    }
   ],
   "source": [
    "cnt = 0\n",
    "for i in range(len(skill_keys)):\n",
    "    \n",
    "    if (skill_keys[i] != pref_keys[i]) | (skill_keys[i] != qual_keys[i]):\n",
    "        cnt = cnt + 1\n",
    "        print(i, skill_keys[i], pref_keys[i], qual_keys[i])\n",
    "    \n",
    "print(cnt)\n",
    "\n"
   ]
  },
  {
   "attachments": {},
   "cell_type": "markdown",
   "metadata": {},
   "source": [
    "#### 3개 데이터 한 csv에 합치기"
   ]
  },
  {
   "cell_type": "code",
   "execution_count": 7,
   "metadata": {},
   "outputs": [],
   "source": [
    "import pandas as pd\n",
    "\n",
    "# Create the DataFrame\n",
    "df = pd.DataFrame({'keys': skill_keys, 'qualification': qual_values, 'preffered': pref_values, 'skill': skill_values})\n",
    "\n",
    "# Save the DataFrame as a CSV file with column names\n",
    "df.to_csv('qual_pref_skill_count.csv', index=False, encoding=\"utf-8\")\n"
   ]
  },
  {
   "cell_type": "code",
   "execution_count": null,
   "metadata": {},
   "outputs": [],
   "source": []
  }
 ],
 "metadata": {
  "kernelspec": {
   "display_name": "Python 3",
   "language": "python",
   "name": "python3"
  },
  "language_info": {
   "codemirror_mode": {
    "name": "ipython",
    "version": 3
   },
   "file_extension": ".py",
   "mimetype": "text/x-python",
   "name": "python",
   "nbconvert_exporter": "python",
   "pygments_lexer": "ipython3",
   "version": "3.10.11"
  },
  "orig_nbformat": 4
 },
 "nbformat": 4,
 "nbformat_minor": 2
}
