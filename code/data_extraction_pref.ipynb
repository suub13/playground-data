{
 "cells": [
  {
   "attachments": {},
   "cell_type": "markdown",
   "metadata": {},
   "source": [
    "# preferred data"
   ]
  },
  {
   "cell_type": "code",
   "execution_count": 1,
   "metadata": {},
   "outputs": [],
   "source": [
    "import csv\n",
    "import re"
   ]
  },
  {
   "cell_type": "code",
   "execution_count": 2,
   "metadata": {},
   "outputs": [],
   "source": [
    "# skills 데이터 다 확인\n",
    "\n",
    "def getSkillsSet():\n",
    "    with open(\"../data/crawled_data_combined.csv\", encoding=\"utf-8\") as f:\n",
    "        reader = csv.reader(f)\n",
    "\n",
    "        # 태그 하나씩 쪼개서 넣을 리스트 (set으로 중복 제거 전)\n",
    "        skillList = []\n",
    "\n",
    "        # csv 파일 리더로, 한 row씩 읽기\n",
    "        for row in reader:\n",
    "\n",
    "            # row list의 10번째 element인 tags string을 ''안 단어들로 나눠서 list만들기\n",
    "            skills = re.findall(r\"'(.*?)'\", row[10])     \n",
    "            skills_upper = [word.upper() for word in skills]\n",
    "\n",
    "            # 각 줄의 태그를 tagList에 넣는다.\n",
    "            skillList += skills_upper\n",
    "            # print(skills)\n",
    "\n",
    "        skillsSet = set(skillList)\n",
    "        \n",
    "        return skillsSet"
   ]
  },
  {
   "attachments": {},
   "cell_type": "markdown",
   "metadata": {},
   "source": [
    "####  ListToDict(lst) - skills List로 딕셔너리 만들기"
   ]
  },
  {
   "cell_type": "code",
   "execution_count": 3,
   "metadata": {},
   "outputs": [],
   "source": [
    "def ListToDict(lst):\n",
    "    toDict = dict()\n",
    "\n",
    "    for item in lst:\n",
    "        toDict[item.upper()] = 0\n",
    "    \n",
    "    return toDict\n",
    "    \n"
   ]
  },
  {
   "attachments": {},
   "cell_type": "markdown",
   "metadata": {},
   "source": [
    "#### saveCSV(dict, title) - dictionary key, value를 csv 파일로 저장하는 함수"
   ]
  },
  {
   "cell_type": "code",
   "execution_count": 4,
   "metadata": {},
   "outputs": [],
   "source": [
    "import csv\n",
    "\n",
    "def saveCSV(dict, title):\n",
    "    # Specify the CSV file path\n",
    "\n",
    "    # Open the CSV file in write mode\n",
    "    with open(title, \"w\", newline=\"\") as file:\n",
    "        writer = csv.writer(file)\n",
    "\n",
    "        # Write the header row with column names\n",
    "        writer.writerow([\"Key\", \"Value\"])\n",
    "\n",
    "        # Write each key-value pair as a row in the CSV file\n",
    "        for key, value in dict.items():\n",
    "            writer.writerow([key, value])\n",
    "\n",
    "    print(\"Dictionary keys and values saved to CSV file successfully.\")"
   ]
  },
  {
   "cell_type": "code",
   "execution_count": 5,
   "metadata": {},
   "outputs": [],
   "source": [
    "comSet = getSkillsSet()\n",
    "comList = list(comSet)\n",
    "comDict = ListToDict(comList)"
   ]
  },
  {
   "attachments": {},
   "cell_type": "markdown",
   "metadata": {},
   "source": [
    "### 각 채용링크의 qualification 속 skill set 정리하기"
   ]
  },
  {
   "cell_type": "code",
   "execution_count": 6,
   "metadata": {},
   "outputs": [],
   "source": [
    "import re\n",
    "from tqdm import tqdm\n",
    "import csv\n",
    "from konlpy.tag import Komoran\n",
    "\n",
    "def preferred():\n",
    "    skillDict = comDict.copy()\n",
    "    freq_dict = dict()\n",
    "\n",
    "    with open(\"../data/crawled_data_combined.csv\", 'r', encoding=\"utf-8\") as f:\n",
    "        reader = csv.reader(f)\n",
    "        data = list(reader)\n",
    "        count = 1\n",
    "        for row in tqdm(data[1:]):\n",
    "            id = row[0]\n",
    "            data = row[8].upper()\n",
    "\n",
    "            # 확인해야 하는 데이터 (list)\n",
    "            phrases = comList \n",
    "\n",
    "            # remove symbols\n",
    "            sentence = re.sub(r'[^\\w\\s]', '', data)\n",
    "\n",
    "            # re.escape으로 특수문자 벗어나고, |로 단어 연결\n",
    "            pattern = r'\\b(' + '|'.join(map(re.escape, phrases)) + r')\\b'\n",
    "\n",
    "            # 한글 정렬후 나누기\n",
    "            komoran = Komoran()\n",
    "            sentence = komoran.morphs(sentence)\n",
    "\n",
    "            # 한글 정렬 후 나누고 다시 문장으로 합쳐주기\n",
    "            sentence = \" \".join(sentence)\n",
    "            \n",
    "            # phrases에 있는 단어 sentence속 빈도 확인하기\n",
    "            matches = re.findall(pattern, sentence)\n",
    "            \n",
    "\n",
    "            if count % 500 == 0:\n",
    "                print(matches)\n",
    "            count += 1\n",
    "\n",
    "            # dictionary에 하나씩 넣어주기 - set으로 중복 제거\n",
    "            freq_dict[id] = list(set(matches))\n",
    "\n",
    "    saveCSV(freq_dict, \"freq_pref_20230703.csv\")\n",
    "    return freq_dict\n",
    "            \n",
    "\n",
    "# qualifications = 7, preferred = 8, skills = 10"
   ]
  },
  {
   "cell_type": "code",
   "execution_count": 7,
   "metadata": {},
   "outputs": [
    {
     "name": "stderr",
     "output_type": "stream",
     "text": [
      "  0%|          | 10/5451 [00:35<5:25:30,  3.59s/it]\n"
     ]
    },
    {
     "ename": "KeyboardInterrupt",
     "evalue": "",
     "output_type": "error",
     "traceback": [
      "\u001b[1;31m---------------------------------------------------------------------------\u001b[0m",
      "\u001b[1;31mKeyboardInterrupt\u001b[0m                         Traceback (most recent call last)",
      "Cell \u001b[1;32mIn[7], line 1\u001b[0m\n\u001b[1;32m----> 1\u001b[0m preferred()\n",
      "Cell \u001b[1;32mIn[6], line 28\u001b[0m, in \u001b[0;36mpreferred\u001b[1;34m()\u001b[0m\n\u001b[0;32m     25\u001b[0m pattern \u001b[39m=\u001b[39m \u001b[39mr\u001b[39m\u001b[39m'\u001b[39m\u001b[39m\\\u001b[39m\u001b[39mb(\u001b[39m\u001b[39m'\u001b[39m \u001b[39m+\u001b[39m \u001b[39m'\u001b[39m\u001b[39m|\u001b[39m\u001b[39m'\u001b[39m\u001b[39m.\u001b[39mjoin(\u001b[39mmap\u001b[39m(re\u001b[39m.\u001b[39mescape, phrases)) \u001b[39m+\u001b[39m \u001b[39mr\u001b[39m\u001b[39m'\u001b[39m\u001b[39m)\u001b[39m\u001b[39m\\\u001b[39m\u001b[39mb\u001b[39m\u001b[39m'\u001b[39m\n\u001b[0;32m     27\u001b[0m \u001b[39m# 한글 정렬후 나누기\u001b[39;00m\n\u001b[1;32m---> 28\u001b[0m komoran \u001b[39m=\u001b[39m Komoran()\n\u001b[0;32m     29\u001b[0m sentence \u001b[39m=\u001b[39m komoran\u001b[39m.\u001b[39mmorphs(sentence)\n\u001b[0;32m     31\u001b[0m \u001b[39m# 한글 정렬 후 나누고 다시 문장으로 합쳐주기\u001b[39;00m\n",
      "File \u001b[1;32mc:\\Users\\Playdata\\AppData\\Local\\Programs\\Python\\Python310\\lib\\site-packages\\konlpy\\tag\\_komoran.py:69\u001b[0m, in \u001b[0;36mKomoran.__init__\u001b[1;34m(self, jvmpath, userdic, modelpath, max_heap_size)\u001b[0m\n\u001b[0;32m     66\u001b[0m komoranJavaPackage \u001b[39m=\u001b[39m jpype\u001b[39m.\u001b[39mJPackage(\u001b[39m'\u001b[39m\u001b[39mkr.co.shineware.nlp.komoran.core\u001b[39m\u001b[39m'\u001b[39m)\n\u001b[0;32m     68\u001b[0m \u001b[39mtry\u001b[39;00m:\n\u001b[1;32m---> 69\u001b[0m     \u001b[39mself\u001b[39m\u001b[39m.\u001b[39mjki \u001b[39m=\u001b[39m komoranJavaPackage\u001b[39m.\u001b[39;49mKomoran(\u001b[39mself\u001b[39;49m\u001b[39m.\u001b[39;49mmodelpath)\n\u001b[0;32m     70\u001b[0m \u001b[39mexcept\u001b[39;00m \u001b[39mTypeError\u001b[39;00m:  \u001b[39m# Package kr.lucypark.komoran.KomoranInterface is not Callable\u001b[39;00m\n\u001b[0;32m     71\u001b[0m     \u001b[39mraise\u001b[39;00m \u001b[39mIOError\u001b[39;00m(\u001b[39m\"\u001b[39m\u001b[39mCannot access komoran-dic. Please leave an issue at https://github.com/konlpy/konlpy/issues\u001b[39m\u001b[39m\"\u001b[39m)\n",
      "\u001b[1;31mKeyboardInterrupt\u001b[0m: "
     ]
    }
   ],
   "source": [
    "preferred()"
   ]
  }
 ],
 "metadata": {
  "kernelspec": {
   "display_name": "Python 3",
   "language": "python",
   "name": "python3"
  },
  "language_info": {
   "codemirror_mode": {
    "name": "ipython",
    "version": 3
   },
   "file_extension": ".py",
   "mimetype": "text/x-python",
   "name": "python",
   "nbconvert_exporter": "python",
   "pygments_lexer": "ipython3",
   "version": "3.10.9"
  },
  "orig_nbformat": 4
 },
 "nbformat": 4,
 "nbformat_minor": 2
}
