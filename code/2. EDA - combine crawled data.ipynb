{
 "cells": [
  {
   "attachments": {},
   "cell_type": "markdown",
   "metadata": {},
   "source": [
    "# crawler/output/wanted_crawling_output_total_5451.csv 데이터와 data/id_link_job.csv 데이터 id 컬럼으로 join"
   ]
  },
  {
   "cell_type": "code",
   "execution_count": 9,
   "metadata": {},
   "outputs": [],
   "source": [
    "import csv\n",
    "import pandas as pd"
   ]
  },
  {
   "cell_type": "code",
   "execution_count": 8,
   "metadata": {},
   "outputs": [
    {
     "ename": "TypeError",
     "evalue": "'_csv.reader' object is not subscriptable",
     "output_type": "error",
     "traceback": [
      "\u001b[1;31m---------------------------------------------------------------------------\u001b[0m",
      "\u001b[1;31mTypeError\u001b[0m                                 Traceback (most recent call last)",
      "Cell \u001b[1;32mIn[8], line 4\u001b[0m\n\u001b[0;32m      2\u001b[0m reader \u001b[39m=\u001b[39m csv\u001b[39m.\u001b[39mreader(f)\n\u001b[0;32m      3\u001b[0m rows \u001b[39m=\u001b[39m \u001b[39mlist\u001b[39m(reader)\n\u001b[1;32m----> 4\u001b[0m \u001b[39mid\u001b[39m \u001b[39m=\u001b[39m reader[\u001b[39m'\u001b[39;49m\u001b[39mid\u001b[39;49m\u001b[39m'\u001b[39;49m]\n\u001b[0;32m      5\u001b[0m \u001b[39mprint\u001b[39m(\u001b[39mid\u001b[39m)\n\u001b[0;32m      6\u001b[0m \u001b[39m# print(rows[0])\u001b[39;00m\n",
      "\u001b[1;31mTypeError\u001b[0m: '_csv.reader' object is not subscriptable"
     ]
    }
   ],
   "source": [
    "# with open(\"../crawler/output/wanted_crawling_output_total_5451.csv\", \"r\",encoding=\"utf-8\") as f:\n",
    "#     reader = csv.reader(f)\n",
    "#     rows = list(reader)\n",
    "#     id = reader['id']\n",
    "#     print(id)\n",
    "#     # print(rows[0])\n",
    "\n",
    "\n",
    "dataset1 = pd.read_csv(\"../crawler/output/wanted_crawling_output_total_5451.csv\",encoding=\"utf-8\")\n",
    "dataset2 = pd.read_csv(\"../crawler/output/wanted_crawling_output_total_5451.csv\",encoding=\"utf-8\")\n"
   ]
  }
 ],
 "metadata": {
  "kernelspec": {
   "display_name": "Python 3",
   "language": "python",
   "name": "python3"
  },
  "language_info": {
   "codemirror_mode": {
    "name": "ipython",
    "version": 3
   },
   "file_extension": ".py",
   "mimetype": "text/x-python",
   "name": "python",
   "nbconvert_exporter": "python",
   "pygments_lexer": "ipython3",
   "version": "3.10.9"
  },
  "orig_nbformat": 4
 },
 "nbformat": 4,
 "nbformat_minor": 2
}
